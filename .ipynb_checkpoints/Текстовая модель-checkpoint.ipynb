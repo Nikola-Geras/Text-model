{
 "cells": [
  {
   "cell_type": "markdown",
   "metadata": {
    "toc": true
   },
   "source": [
    "<h1>Содержание<span class=\"tocSkip\"></span></h1>\n",
    "<div class=\"toc\"><ul class=\"toc-item\"><li><span><a href=\"#Подготовка\" data-toc-modified-id=\"Подготовка-1\"><span class=\"toc-item-num\">1&nbsp;&nbsp;</span>Подготовка</a></span><ul class=\"toc-item\"><li><span><a href=\"#Балансировка-данных\" data-toc-modified-id=\"Балансировка-данных-1.1\"><span class=\"toc-item-num\">1.1&nbsp;&nbsp;</span>Балансировка данных</a></span><ul class=\"toc-item\"><li><span><a href=\"#Уменьшение-размера-весов-классов\" data-toc-modified-id=\"Уменьшение-размера-весов-классов-1.1.1\"><span class=\"toc-item-num\">1.1.1&nbsp;&nbsp;</span>Уменьшение размера весов классов</a></span></li><li><span><a href=\"#Ресемплинг-с-уменшением-класса-0\" data-toc-modified-id=\"Ресемплинг-с-уменшением-класса-0-1.1.2\"><span class=\"toc-item-num\">1.1.2&nbsp;&nbsp;</span>Ресемплинг с уменшением класса 0</a></span></li></ul></li></ul></li><li><span><a href=\"#Обучение\" data-toc-modified-id=\"Обучение-2\"><span class=\"toc-item-num\">2&nbsp;&nbsp;</span>Обучение</a></span><ul class=\"toc-item\"><li><span><a href=\"#Классификатор-LogisticRegression\" data-toc-modified-id=\"Классификатор-LogisticRegression-2.1\"><span class=\"toc-item-num\">2.1&nbsp;&nbsp;</span>Классификатор LogisticRegression</a></span></li><li><span><a href=\"#Классификатор-DecisionTreeClassifier\" data-toc-modified-id=\"Классификатор-DecisionTreeClassifier-2.2\"><span class=\"toc-item-num\">2.2&nbsp;&nbsp;</span>Классификатор DecisionTreeClassifier</a></span></li><li><span><a href=\"#Классификатор-CatBoostClassifier\" data-toc-modified-id=\"Классификатор-CatBoostClassifier-2.3\"><span class=\"toc-item-num\">2.3&nbsp;&nbsp;</span>Классификатор CatBoostClassifier</a></span></li><li><span><a href=\"#Вывод-по-классификаторам\" data-toc-modified-id=\"Вывод-по-классификаторам-2.4\"><span class=\"toc-item-num\">2.4&nbsp;&nbsp;</span>Вывод по классификаторам</a></span></li></ul></li><li><span><a href=\"#Выводы\" data-toc-modified-id=\"Выводы-3\"><span class=\"toc-item-num\">3&nbsp;&nbsp;</span>Выводы</a></span></li><li><span><a href=\"#Чек-лист-проверки\" data-toc-modified-id=\"Чек-лист-проверки-4\"><span class=\"toc-item-num\">4&nbsp;&nbsp;</span>Чек-лист проверки</a></span></li></ul></div>"
   ]
  },
  {
   "cell_type": "markdown",
   "metadata": {},
   "source": [
    "# Проект для «Викишоп»"
   ]
  },
  {
   "cell_type": "markdown",
   "metadata": {},
   "source": [
    "Интернет-магазин «Викишоп» запускает новый сервис. Теперь пользователи могут редактировать и дополнять описания товаров, как в вики-сообществах. То есть клиенты предлагают свои правки и комментируют изменения других. Магазину нужен инструмент, который будет искать токсичные комментарии и отправлять их на модерацию. \n",
    "\n",
    "Обучите модель классифицировать комментарии на позитивные и негативные. В вашем распоряжении набор данных с разметкой о токсичности правок.\n",
    "\n",
    "Постройте модель со значением метрики качества *F1* не меньше 0.75. \n",
    "\n",
    "**Инструкция по выполнению проекта**\n",
    "\n",
    "1. Загрузите и подготовьте данные.\n",
    "2. Обучите разные модели. \n",
    "3. Сделайте выводы.\n",
    "\n",
    "Для выполнения проекта применять *BERT* необязательно, но вы можете попробовать.\n",
    "\n",
    "**Описание данных**\n",
    "\n",
    "Данные находятся в файле `toxic_comments.csv`. Столбец *text* в нём содержит текст комментария, а *toxic* — целевой признак."
   ]
  },
  {
   "cell_type": "markdown",
   "metadata": {},
   "source": [
    "## Подготовка"
   ]
  },
  {
   "cell_type": "code",
   "execution_count": 1,
   "metadata": {},
   "outputs": [
    {
     "name": "stdout",
     "output_type": "stream",
     "text": [
      "Collecting imbalanced-learn\n",
      "  Downloading imbalanced_learn-0.12.4-py3-none-any.whl (258 kB)\n",
      "\u001b[K     |████████████████████████████████| 258 kB 2.6 MB/s eta 0:00:01\n",
      "\u001b[?25hCollecting scikit-learn>=1.0.2\n",
      "  Downloading scikit_learn-1.6.0-cp39-cp39-manylinux_2_17_x86_64.manylinux2014_x86_64.whl (13.5 MB)\n",
      "\u001b[K     |████████████████████████████████| 13.5 MB 55.5 MB/s eta 0:00:01\n",
      "\u001b[?25hCollecting joblib>=1.1.1\n",
      "  Downloading joblib-1.4.2-py3-none-any.whl (301 kB)\n",
      "\u001b[K     |████████████████████████████████| 301 kB 82.1 MB/s eta 0:00:01\n",
      "\u001b[?25hRequirement already satisfied: scipy>=1.5.0 in /opt/conda/lib/python3.9/site-packages (from imbalanced-learn) (1.9.1)\n",
      "Requirement already satisfied: numpy>=1.17.3 in /opt/conda/lib/python3.9/site-packages (from imbalanced-learn) (1.21.1)\n",
      "Requirement already satisfied: threadpoolctl>=2.0.0 in /opt/conda/lib/python3.9/site-packages (from imbalanced-learn) (3.1.0)\n",
      "Installing collected packages: joblib, scikit-learn, imbalanced-learn\n",
      "  Attempting uninstall: joblib\n",
      "    Found existing installation: joblib 1.1.0\n",
      "    Uninstalling joblib-1.1.0:\n",
      "      Successfully uninstalled joblib-1.1.0\n",
      "  Attempting uninstall: scikit-learn\n",
      "    Found existing installation: scikit-learn 0.24.1\n",
      "    Uninstalling scikit-learn-0.24.1:\n",
      "      Successfully uninstalled scikit-learn-0.24.1\n",
      "Successfully installed imbalanced-learn-0.12.4 joblib-1.4.2 scikit-learn-1.6.0\n"
     ]
    }
   ],
   "source": [
    "!pip install imbalanced-learn"
   ]
  },
  {
   "cell_type": "code",
   "execution_count": 2,
   "metadata": {
    "scrolled": true
   },
   "outputs": [],
   "source": [
    "import numpy as np\n",
    "import pandas as pd\n",
    "import re\n",
    "import nltk\n",
    "from nltk.corpus import wordnet\n",
    "from nltk.tokenize import word_tokenize\n",
    "from nltk.stem import WordNetLemmatizer\n",
    "from nltk.corpus import stopwords as nltk_stopwords\n",
    "from nltk import pos_tag\n",
    "from sklearn.feature_extraction.text import TfidfVectorizer\n",
    "from sklearn.model_selection import train_test_split, cross_val_score, GridSearchCV, StratifiedKFold\n",
    "from sklearn.linear_model import LogisticRegression, SGDClassifier\n",
    "from sklearn.tree import DecisionTreeClassifier\n",
    "from catboost import CatBoostClassifier\n",
    "from sklearn.metrics import f1_score, precision_score, recall_score, accuracy_score, roc_auc_score, roc_curve\n",
    "from sklearn.utils import shuffle\n",
    "from sklearn.pipeline import Pipeline\n",
    "from sklearn.ensemble import RandomForestClassifier\n",
    "from imblearn.pipeline import Pipeline as ImbPipeline\n",
    "import matplotlib.pyplot as plt\n",
    "import imblearn\n",
    "from imblearn.under_sampling import RandomUnderSampler\n",
    "import warnings\n",
    "warnings.filterwarnings('ignore')"
   ]
  },
  {
   "cell_type": "code",
   "execution_count": 3,
   "metadata": {},
   "outputs": [
    {
     "name": "stdout",
     "output_type": "stream",
     "text": [
      "<class 'pandas.core.frame.DataFrame'>\n",
      "RangeIndex: 159292 entries, 0 to 159291\n",
      "Data columns (total 3 columns):\n",
      " #   Column      Non-Null Count   Dtype \n",
      "---  ------      --------------   ----- \n",
      " 0   Unnamed: 0  159292 non-null  int64 \n",
      " 1   text        159292 non-null  object\n",
      " 2   toxic       159292 non-null  int64 \n",
      "dtypes: int64(2), object(1)\n",
      "memory usage: 3.6+ MB\n"
     ]
    }
   ],
   "source": [
    "toxic_comments = pd.read_csv('/datasets/toxic_comments.csv')\n",
    "toxic_comments.info()"
   ]
  },
  {
   "cell_type": "code",
   "execution_count": 4,
   "metadata": {},
   "outputs": [
    {
     "data": {
      "text/html": [
       "<div>\n",
       "<style scoped>\n",
       "    .dataframe tbody tr th:only-of-type {\n",
       "        vertical-align: middle;\n",
       "    }\n",
       "\n",
       "    .dataframe tbody tr th {\n",
       "        vertical-align: top;\n",
       "    }\n",
       "\n",
       "    .dataframe thead th {\n",
       "        text-align: right;\n",
       "    }\n",
       "</style>\n",
       "<table border=\"1\" class=\"dataframe\">\n",
       "  <thead>\n",
       "    <tr style=\"text-align: right;\">\n",
       "      <th></th>\n",
       "      <th>Unnamed: 0</th>\n",
       "      <th>text</th>\n",
       "      <th>toxic</th>\n",
       "    </tr>\n",
       "  </thead>\n",
       "  <tbody>\n",
       "    <tr>\n",
       "      <th>0</th>\n",
       "      <td>0</td>\n",
       "      <td>Explanation\\nWhy the edits made under my usern...</td>\n",
       "      <td>0</td>\n",
       "    </tr>\n",
       "    <tr>\n",
       "      <th>1</th>\n",
       "      <td>1</td>\n",
       "      <td>D'aww! He matches this background colour I'm s...</td>\n",
       "      <td>0</td>\n",
       "    </tr>\n",
       "    <tr>\n",
       "      <th>2</th>\n",
       "      <td>2</td>\n",
       "      <td>Hey man, I'm really not trying to edit war. It...</td>\n",
       "      <td>0</td>\n",
       "    </tr>\n",
       "    <tr>\n",
       "      <th>3</th>\n",
       "      <td>3</td>\n",
       "      <td>\"\\nMore\\nI can't make any real suggestions on ...</td>\n",
       "      <td>0</td>\n",
       "    </tr>\n",
       "    <tr>\n",
       "      <th>4</th>\n",
       "      <td>4</td>\n",
       "      <td>You, sir, are my hero. Any chance you remember...</td>\n",
       "      <td>0</td>\n",
       "    </tr>\n",
       "  </tbody>\n",
       "</table>\n",
       "</div>"
      ],
      "text/plain": [
       "   Unnamed: 0                                               text  toxic\n",
       "0           0  Explanation\\nWhy the edits made under my usern...      0\n",
       "1           1  D'aww! He matches this background colour I'm s...      0\n",
       "2           2  Hey man, I'm really not trying to edit war. It...      0\n",
       "3           3  \"\\nMore\\nI can't make any real suggestions on ...      0\n",
       "4           4  You, sir, are my hero. Any chance you remember...      0"
      ]
     },
     "execution_count": 4,
     "metadata": {},
     "output_type": "execute_result"
    }
   ],
   "source": [
    "toxic_comments.head()"
   ]
  },
  {
   "cell_type": "code",
   "execution_count": 5,
   "metadata": {},
   "outputs": [
    {
     "data": {
      "text/html": [
       "<div>\n",
       "<style scoped>\n",
       "    .dataframe tbody tr th:only-of-type {\n",
       "        vertical-align: middle;\n",
       "    }\n",
       "\n",
       "    .dataframe tbody tr th {\n",
       "        vertical-align: top;\n",
       "    }\n",
       "\n",
       "    .dataframe thead th {\n",
       "        text-align: right;\n",
       "    }\n",
       "</style>\n",
       "<table border=\"1\" class=\"dataframe\">\n",
       "  <thead>\n",
       "    <tr style=\"text-align: right;\">\n",
       "      <th></th>\n",
       "      <th>Unnamed: 0</th>\n",
       "      <th>text</th>\n",
       "      <th>toxic</th>\n",
       "    </tr>\n",
       "  </thead>\n",
       "  <tbody>\n",
       "    <tr>\n",
       "      <th>159287</th>\n",
       "      <td>159446</td>\n",
       "      <td>\":::::And for the second time of asking, when ...</td>\n",
       "      <td>0</td>\n",
       "    </tr>\n",
       "    <tr>\n",
       "      <th>159288</th>\n",
       "      <td>159447</td>\n",
       "      <td>You should be ashamed of yourself \\n\\nThat is ...</td>\n",
       "      <td>0</td>\n",
       "    </tr>\n",
       "    <tr>\n",
       "      <th>159289</th>\n",
       "      <td>159448</td>\n",
       "      <td>Spitzer \\n\\nUmm, theres no actual article for ...</td>\n",
       "      <td>0</td>\n",
       "    </tr>\n",
       "    <tr>\n",
       "      <th>159290</th>\n",
       "      <td>159449</td>\n",
       "      <td>And it looks like it was actually you who put ...</td>\n",
       "      <td>0</td>\n",
       "    </tr>\n",
       "    <tr>\n",
       "      <th>159291</th>\n",
       "      <td>159450</td>\n",
       "      <td>\"\\nAnd ... I really don't think you understand...</td>\n",
       "      <td>0</td>\n",
       "    </tr>\n",
       "  </tbody>\n",
       "</table>\n",
       "</div>"
      ],
      "text/plain": [
       "        Unnamed: 0                                               text  toxic\n",
       "159287      159446  \":::::And for the second time of asking, when ...      0\n",
       "159288      159447  You should be ashamed of yourself \\n\\nThat is ...      0\n",
       "159289      159448  Spitzer \\n\\nUmm, theres no actual article for ...      0\n",
       "159290      159449  And it looks like it was actually you who put ...      0\n",
       "159291      159450  \"\\nAnd ... I really don't think you understand...      0"
      ]
     },
     "execution_count": 5,
     "metadata": {},
     "output_type": "execute_result"
    }
   ],
   "source": [
    "toxic_comments.tail()"
   ]
  },
  {
   "cell_type": "markdown",
   "metadata": {},
   "source": [
    "В данных присутствует колонка с нумерацией, которая не соответствует истинной нумерации с какого-то момента. Так как она не информативна, можно её просто дропнуть."
   ]
  },
  {
   "cell_type": "code",
   "execution_count": 6,
   "metadata": {},
   "outputs": [],
   "source": [
    "toxic_comments = toxic_comments.drop(columns=['Unnamed: 0'])"
   ]
  },
  {
   "cell_type": "code",
   "execution_count": 7,
   "metadata": {},
   "outputs": [
    {
     "data": {
      "text/html": [
       "<div>\n",
       "<style scoped>\n",
       "    .dataframe tbody tr th:only-of-type {\n",
       "        vertical-align: middle;\n",
       "    }\n",
       "\n",
       "    .dataframe tbody tr th {\n",
       "        vertical-align: top;\n",
       "    }\n",
       "\n",
       "    .dataframe thead th {\n",
       "        text-align: right;\n",
       "    }\n",
       "</style>\n",
       "<table border=\"1\" class=\"dataframe\">\n",
       "  <thead>\n",
       "    <tr style=\"text-align: right;\">\n",
       "      <th></th>\n",
       "      <th>text</th>\n",
       "      <th>toxic</th>\n",
       "    </tr>\n",
       "  </thead>\n",
       "  <tbody>\n",
       "    <tr>\n",
       "      <th>0</th>\n",
       "      <td>Explanation\\nWhy the edits made under my usern...</td>\n",
       "      <td>0</td>\n",
       "    </tr>\n",
       "    <tr>\n",
       "      <th>1</th>\n",
       "      <td>D'aww! He matches this background colour I'm s...</td>\n",
       "      <td>0</td>\n",
       "    </tr>\n",
       "    <tr>\n",
       "      <th>2</th>\n",
       "      <td>Hey man, I'm really not trying to edit war. It...</td>\n",
       "      <td>0</td>\n",
       "    </tr>\n",
       "    <tr>\n",
       "      <th>3</th>\n",
       "      <td>\"\\nMore\\nI can't make any real suggestions on ...</td>\n",
       "      <td>0</td>\n",
       "    </tr>\n",
       "    <tr>\n",
       "      <th>4</th>\n",
       "      <td>You, sir, are my hero. Any chance you remember...</td>\n",
       "      <td>0</td>\n",
       "    </tr>\n",
       "    <tr>\n",
       "      <th>...</th>\n",
       "      <td>...</td>\n",
       "      <td>...</td>\n",
       "    </tr>\n",
       "    <tr>\n",
       "      <th>159287</th>\n",
       "      <td>\":::::And for the second time of asking, when ...</td>\n",
       "      <td>0</td>\n",
       "    </tr>\n",
       "    <tr>\n",
       "      <th>159288</th>\n",
       "      <td>You should be ashamed of yourself \\n\\nThat is ...</td>\n",
       "      <td>0</td>\n",
       "    </tr>\n",
       "    <tr>\n",
       "      <th>159289</th>\n",
       "      <td>Spitzer \\n\\nUmm, theres no actual article for ...</td>\n",
       "      <td>0</td>\n",
       "    </tr>\n",
       "    <tr>\n",
       "      <th>159290</th>\n",
       "      <td>And it looks like it was actually you who put ...</td>\n",
       "      <td>0</td>\n",
       "    </tr>\n",
       "    <tr>\n",
       "      <th>159291</th>\n",
       "      <td>\"\\nAnd ... I really don't think you understand...</td>\n",
       "      <td>0</td>\n",
       "    </tr>\n",
       "  </tbody>\n",
       "</table>\n",
       "<p>159292 rows × 2 columns</p>\n",
       "</div>"
      ],
      "text/plain": [
       "                                                     text  toxic\n",
       "0       Explanation\\nWhy the edits made under my usern...      0\n",
       "1       D'aww! He matches this background colour I'm s...      0\n",
       "2       Hey man, I'm really not trying to edit war. It...      0\n",
       "3       \"\\nMore\\nI can't make any real suggestions on ...      0\n",
       "4       You, sir, are my hero. Any chance you remember...      0\n",
       "...                                                   ...    ...\n",
       "159287  \":::::And for the second time of asking, when ...      0\n",
       "159288  You should be ashamed of yourself \\n\\nThat is ...      0\n",
       "159289  Spitzer \\n\\nUmm, theres no actual article for ...      0\n",
       "159290  And it looks like it was actually you who put ...      0\n",
       "159291  \"\\nAnd ... I really don't think you understand...      0\n",
       "\n",
       "[159292 rows x 2 columns]"
      ]
     },
     "execution_count": 7,
     "metadata": {},
     "output_type": "execute_result"
    }
   ],
   "source": [
    "toxic_comments"
   ]
  },
  {
   "cell_type": "code",
   "execution_count": 8,
   "metadata": {},
   "outputs": [
    {
     "name": "stdout",
     "output_type": "stream",
     "text": [
      "<class 'pandas.core.frame.DataFrame'>\n",
      "RangeIndex: 159292 entries, 0 to 159291\n",
      "Data columns (total 2 columns):\n",
      " #   Column  Non-Null Count   Dtype \n",
      "---  ------  --------------   ----- \n",
      " 0   text    159292 non-null  object\n",
      " 1   toxic   159292 non-null  int64 \n",
      "dtypes: int64(1), object(1)\n",
      "memory usage: 2.4+ MB\n"
     ]
    }
   ],
   "source": [
    "toxic_comments.info()"
   ]
  },
  {
   "cell_type": "code",
   "execution_count": 9,
   "metadata": {
    "scrolled": true
   },
   "outputs": [
    {
     "data": {
      "text/plain": [
       "0    143106\n",
       "1     16186\n",
       "Name: toxic, dtype: int64"
      ]
     },
     "metadata": {},
     "output_type": "display_data"
    },
    {
     "data": {
      "text/plain": [
       "8.841344371679229"
      ]
     },
     "execution_count": 9,
     "metadata": {},
     "output_type": "execute_result"
    }
   ],
   "source": [
    "#Посмотрим сколько у нас токсичных/нектоксичных текстов\n",
    "display(toxic_comments['toxic'].value_counts())\n",
    "#Выведем соотношение\n",
    "class_ratio = toxic_comments['toxic'].value_counts()[0] / toxic_comments['toxic'].value_counts()[1]\n",
    "class_ratio"
   ]
  },
  {
   "cell_type": "markdown",
   "metadata": {},
   "source": [
    "**Вывод**\n",
    "\n",
    "Видим что классы несбалансированы, применем несколько спомобов балансировки и сравним их"
   ]
  },
  {
   "cell_type": "code",
   "execution_count": 10,
   "metadata": {},
   "outputs": [],
   "source": [
    "#lemmatizer = WordNetLemmatizer()\n",
    "\n",
    "# Загрузка необходимых данных из nltk\n",
    "#nltk.download('averaged_perceptron_tagger')\n",
    "#nltk.download('wordnet')\n",
    "\n",
    "# Функция для преобразования POS-тегов\n",
    "#def get_wordnet_pos(tag):\n",
    "   # if tag.startswith('J'):\n",
    "    #    return wordnet.ADJ\n",
    "   # elif tag.startswith('V'):\n",
    "      #  return wordnet.VERB\n",
    "    #elif tag.startswith('N'):\n",
    "       # return wordnet.NOUN\n",
    "   # elif tag.startswith('R'):\n",
    "        #return wordnet.ADV\n",
    "    #else:\n",
    "        #return wordnet.NOUN\n",
    "\n",
    "#def lemmatize_text(text):\n",
    "   # text = text.lower()\n",
    "    #lemm_text = \"\".join(lemmatizer.lemmatize(text))\n",
    "   # cleared_text = re.sub(r'[^a-zA-Z]', ' ', lemm_text) \n",
    "   # return \" \".join(cleared_text.split())\n",
    "\n",
    "\n",
    "#toxic_comments['lemm_text'] = toxic_comments['text'].apply(lemmatize_text)\n",
    "\n",
    "#toxic_comments = toxic_comments.drop(['text'], axis=1)"
   ]
  },
  {
   "cell_type": "code",
   "execution_count": 11,
   "metadata": {},
   "outputs": [
    {
     "name": "stderr",
     "output_type": "stream",
     "text": [
      "[nltk_data] Downloading package punkt to /home/jovyan/nltk_data...\n",
      "[nltk_data]   Package punkt is already up-to-date!\n",
      "[nltk_data] Downloading package averaged_perceptron_tagger to\n",
      "[nltk_data]     /home/jovyan/nltk_data...\n",
      "[nltk_data]   Unzipping taggers/averaged_perceptron_tagger.zip.\n",
      "[nltk_data] Downloading package wordnet to /home/jovyan/nltk_data...\n",
      "[nltk_data]   Package wordnet is already up-to-date!\n"
     ]
    }
   ],
   "source": [
    "nltk.download('punkt')\n",
    "nltk.download('averaged_perceptron_tagger')\n",
    "nltk.download('wordnet')\n",
    "\n",
    "lemmatizer = WordNetLemmatizer()\n",
    "\n",
    "# Функция для преобразования POS-тегов\n",
    "def get_wordnet_pos(tag):\n",
    "    if tag.startswith('J'):\n",
    "        return wordnet.ADJ\n",
    "    elif tag.startswith('V'):\n",
    "        return wordnet.VERB\n",
    "    elif tag.startswith('N'):\n",
    "        return wordnet.NOUN\n",
    "    elif tag.startswith('R'):\n",
    "        return wordnet.ADV\n",
    "    else:\n",
    "        return wordnet.NOUN\n",
    "\n",
    "# Исправленная функция для лемматизации текста\n",
    "def lemmatize_text(text):\n",
    "    text = text.lower()\n",
    "    tokens = word_tokenize(text)\n",
    "    pos_tags = pos_tag(tokens)\n",
    "    lemmatized_tokens = [lemmatizer.lemmatize(token, get_wordnet_pos(tag)) for token, tag in pos_tags]\n",
    "    cleared_text = re.sub(r'[^a-zA-Z\\s]', '', ' '.join(lemmatized_tokens))  # Удаление всех символов, кроме букв и пробелов\n",
    "    return ' '.join(cleared_text.split())\n",
    "\n",
    "# Применение лемматизации к тексту в DataFrame\n",
    "toxic_comments['lemm_text'] = toxic_comments['text'].apply(lemmatize_text)\n",
    "\n",
    "# Удаление исходного текста\n",
    "toxic_comments = toxic_comments.drop(['text'], axis=1)"
   ]
  },
  {
   "cell_type": "code",
   "execution_count": 12,
   "metadata": {},
   "outputs": [
    {
     "data": {
      "text/html": [
       "<div>\n",
       "<style scoped>\n",
       "    .dataframe tbody tr th:only-of-type {\n",
       "        vertical-align: middle;\n",
       "    }\n",
       "\n",
       "    .dataframe tbody tr th {\n",
       "        vertical-align: top;\n",
       "    }\n",
       "\n",
       "    .dataframe thead th {\n",
       "        text-align: right;\n",
       "    }\n",
       "</style>\n",
       "<table border=\"1\" class=\"dataframe\">\n",
       "  <thead>\n",
       "    <tr style=\"text-align: right;\">\n",
       "      <th></th>\n",
       "      <th>toxic</th>\n",
       "      <th>lemm_text</th>\n",
       "    </tr>\n",
       "  </thead>\n",
       "  <tbody>\n",
       "    <tr>\n",
       "      <th>0</th>\n",
       "      <td>0</td>\n",
       "      <td>explanation why the edits make under my userna...</td>\n",
       "    </tr>\n",
       "    <tr>\n",
       "      <th>1</th>\n",
       "      <td>0</td>\n",
       "      <td>daww he match this background colour i m seemi...</td>\n",
       "    </tr>\n",
       "    <tr>\n",
       "      <th>2</th>\n",
       "      <td>0</td>\n",
       "      <td>hey man i m really not try to edit war it s ju...</td>\n",
       "    </tr>\n",
       "    <tr>\n",
       "      <th>3</th>\n",
       "      <td>0</td>\n",
       "      <td>more i ca nt make any real suggestion on impro...</td>\n",
       "    </tr>\n",
       "    <tr>\n",
       "      <th>4</th>\n",
       "      <td>0</td>\n",
       "      <td>you sir be my hero any chance you remember wha...</td>\n",
       "    </tr>\n",
       "    <tr>\n",
       "      <th>...</th>\n",
       "      <td>...</td>\n",
       "      <td>...</td>\n",
       "    </tr>\n",
       "    <tr>\n",
       "      <th>159287</th>\n",
       "      <td>0</td>\n",
       "      <td>and for the second time of ask when your view ...</td>\n",
       "    </tr>\n",
       "    <tr>\n",
       "      <th>159288</th>\n",
       "      <td>0</td>\n",
       "      <td>you should be ashamed of yourself that be a ho...</td>\n",
       "    </tr>\n",
       "    <tr>\n",
       "      <th>159289</th>\n",
       "      <td>0</td>\n",
       "      <td>spitzer umm theres no actual article for prost...</td>\n",
       "    </tr>\n",
       "    <tr>\n",
       "      <th>159290</th>\n",
       "      <td>0</td>\n",
       "      <td>and it look like it be actually you who put on...</td>\n",
       "    </tr>\n",
       "    <tr>\n",
       "      <th>159291</th>\n",
       "      <td>0</td>\n",
       "      <td>and i really do nt think you understand i come...</td>\n",
       "    </tr>\n",
       "  </tbody>\n",
       "</table>\n",
       "<p>159292 rows × 2 columns</p>\n",
       "</div>"
      ],
      "text/plain": [
       "        toxic                                          lemm_text\n",
       "0           0  explanation why the edits make under my userna...\n",
       "1           0  daww he match this background colour i m seemi...\n",
       "2           0  hey man i m really not try to edit war it s ju...\n",
       "3           0  more i ca nt make any real suggestion on impro...\n",
       "4           0  you sir be my hero any chance you remember wha...\n",
       "...       ...                                                ...\n",
       "159287      0  and for the second time of ask when your view ...\n",
       "159288      0  you should be ashamed of yourself that be a ho...\n",
       "159289      0  spitzer umm theres no actual article for prost...\n",
       "159290      0  and it look like it be actually you who put on...\n",
       "159291      0  and i really do nt think you understand i come...\n",
       "\n",
       "[159292 rows x 2 columns]"
      ]
     },
     "execution_count": 12,
     "metadata": {},
     "output_type": "execute_result"
    }
   ],
   "source": [
    "toxic_comments"
   ]
  },
  {
   "cell_type": "code",
   "execution_count": 13,
   "metadata": {},
   "outputs": [
    {
     "name": "stderr",
     "output_type": "stream",
     "text": [
      "[nltk_data] Downloading package stopwords to /home/jovyan/nltk_data...\n",
      "[nltk_data]   Package stopwords is already up-to-date!\n"
     ]
    },
    {
     "name": "stdout",
     "output_type": "stream",
     "text": [
      "(79646, 122556)\n",
      "(39823, 122556)\n",
      "(39823, 122556)\n",
      "Fold accuracy: 0.918754002033975\n",
      "Fold F1 score: 0.8139041718643808\n",
      "Fold accuracy: 0.9155523748540435\n",
      "Fold F1 score: 0.8102195137006514\n",
      "Fold accuracy: 0.9190146150369143\n",
      "Fold F1 score: 0.8158173128924977\n",
      "Mean accuracy: 0.9177736639749776\n",
      "Mean F1 score: 0.81331366615251\n"
     ]
    }
   ],
   "source": [
    "# Разделение данных\n",
    "target = toxic_comments['toxic']\n",
    "features = toxic_comments.drop(['toxic'], axis=1)\n",
    "\n",
    "features_train, features_valid, target_train, target_valid = train_test_split(\n",
    "    features, \n",
    "    target, \n",
    "    test_size=0.5, \n",
    "    random_state=1515\n",
    ")\n",
    "features_valid, features_test, target_valid, target_test = train_test_split(\n",
    "    features_valid, \n",
    "    target_valid, \n",
    "    test_size=0.5,\n",
    "    random_state=1515\n",
    ")\n",
    "\n",
    "# Загрузка стоп-слов\n",
    "nltk.download('stopwords')\n",
    "stopwords = list(nltk_stopwords.words('english'))\n",
    "\n",
    "# Применение TF-IDF векторизации\n",
    "count_tf_idf = TfidfVectorizer(stop_words=stopwords)\n",
    "\n",
    "features_train = count_tf_idf.fit_transform(features_train['lemm_text'])\n",
    "features_valid = count_tf_idf.transform(features_valid['lemm_text'])\n",
    "features_test = count_tf_idf.transform(features_test['lemm_text'])\n",
    "\n",
    "print(features_train.shape)\n",
    "print(features_valid.shape)\n",
    "print(features_test.shape)\n",
    "\n",
    "# Уменьшение количества кросс-валидаций до 3\n",
    "cv_counts = 3\n",
    "\n",
    "# Кросс-валидация с downsampling\n",
    "skf = StratifiedKFold(n_splits=cv_counts)\n",
    "model = LogisticRegression(max_iter=1000)\n",
    "rus = RandomUnderSampler(random_state=12082020)\n",
    "\n",
    "accuracies = []\n",
    "f1_scores = []\n",
    "\n",
    "for train_index, val_index in skf.split(features_train, target_train):\n",
    "    X_train_fold, X_val_fold = features_train[train_index], features_train[val_index]\n",
    "    y_train_fold, y_val_fold = target_train.iloc[train_index], target_train.iloc[val_index]\n",
    "    \n",
    "    X_res, y_res = rus.fit_resample(X_train_fold, y_train_fold)\n",
    "    \n",
    "    model.fit(X_res, y_res)\n",
    "    y_pred = model.predict(X_val_fold)\n",
    "    \n",
    "    accuracy = accuracy_score(y_val_fold, y_pred)\n",
    "    f1 = f1_score(y_val_fold, y_pred, average='macro')\n",
    "    \n",
    "    accuracies.append(accuracy)\n",
    "    f1_scores.append(f1)\n",
    "    \n",
    "    print(f\"Fold accuracy: {accuracy}\")\n",
    "    print(f\"Fold F1 score: {f1}\")\n",
    "\n",
    "print(f\"Mean accuracy: {sum(accuracies) / len(accuracies)}\")\n",
    "print(f\"Mean F1 score: {sum(f1_scores) / len(f1_scores)}\")"
   ]
  },
  {
   "cell_type": "markdown",
   "metadata": {},
   "source": [
    "### Балансировка данных"
   ]
  },
  {
   "cell_type": "markdown",
   "metadata": {},
   "source": [
    "#### Уменьшение размера весов классов"
   ]
  },
  {
   "cell_type": "code",
   "execution_count": 14,
   "metadata": {},
   "outputs": [
    {
     "name": "stdout",
     "output_type": "stream",
     "text": [
      "F1 на CV с балансированными классами 0.7408047783681236\n"
     ]
    }
   ],
   "source": [
    "dict_classes={0:1, 1:class_ratio}\n",
    "classificator = LogisticRegression(class_weight=dict_classes)\n",
    "train_f1_ballanced = cross_val_score(classificator, \n",
    "                                    features_train, \n",
    "                                    target_train, \n",
    "                                    cv=cv_counts, \n",
    "                                    scoring='f1').mean()\n",
    "print('F1 на CV с балансированными классами', train_f1_ballanced)"
   ]
  },
  {
   "cell_type": "code",
   "execution_count": 15,
   "metadata": {},
   "outputs": [
    {
     "name": "stdout",
     "output_type": "stream",
     "text": [
      "F1 на CV с балансированными классами 0.7408047783681236\n"
     ]
    }
   ],
   "source": [
    "classificator = LogisticRegression(class_weight='balanced')\n",
    "train_f1_balanced = cross_val_score(classificator, \n",
    "                                    features_train, \n",
    "                                    target_train, \n",
    "                                    cv=cv_counts, \n",
    "                                    scoring='f1').mean()\n",
    "print('F1 на CV с балансированными классами', train_f1_ballanced)"
   ]
  },
  {
   "cell_type": "markdown",
   "metadata": {},
   "source": [
    "#### Ресемплинг с уменшением класса 0"
   ]
  },
  {
   "cell_type": "code",
   "execution_count": 16,
   "metadata": {},
   "outputs": [],
   "source": [
    "#toxic_comments_train = toxic_comments.iloc[target_train.index]\n",
    "\n",
    "#target_train_class_zero = toxic_comments_train[toxic_comments_train['toxic'] == 0]['toxic']\n",
    "#target_train_class_one = toxic_comments_train[toxic_comments_train['toxic'] == 1]['toxic']"
   ]
  },
  {
   "cell_type": "code",
   "execution_count": 17,
   "metadata": {},
   "outputs": [],
   "source": [
    "#target_train_class_zero_downsample = target_train_class_zero.sample(target_train_class_one.shape[0],\n",
    "                                                                    #random_state=12082020)\n",
    "#target_train_downsample = pd.concat([target_train_class_zero_downsample, target_train_class_one])\n",
    "\n",
    "#features_train_downsample = toxic_comments.iloc[target_train_downsample.index]\n",
    "#features_train_downsample, target_train_downsample = shuffle(features_train_downsample,\n",
    "                                                             #target_train_downsample,\n",
    "                                                             #random_state=12082020)\n",
    "#features_train_downsample = count_tf_idf.transform(features_train_downsample['lemm_text'])"
   ]
  },
  {
   "cell_type": "code",
   "execution_count": 18,
   "metadata": {},
   "outputs": [],
   "source": [
    "# Переписанный код\n",
    "pipeline = ImbPipeline([\n",
    "    ('tfidf', TfidfVectorizer()),  # Преобразование текста в TF-IDF\n",
    "    ('undersample', RandomUnderSampler(random_state=12082020)),  # Балансировка классов\n",
    "    ('classifier', LogisticRegression(random_state=12082020, max_iter=1000))])  # Классификатор\n"
   ]
  },
  {
   "cell_type": "code",
   "execution_count": 19,
   "metadata": {},
   "outputs": [],
   "source": [
    "features_train_0, features_test_0, target_train_0, target_test_0 = train_test_split(\n",
    "    toxic_comments['lemm_text'], \n",
    "    toxic_comments['toxic'], \n",
    "    test_size=0.2, \n",
    "    random_state=42\n",
    ")"
   ]
  },
  {
   "cell_type": "code",
   "execution_count": 20,
   "metadata": {},
   "outputs": [],
   "source": [
    "cv_counts = 3"
   ]
  },
  {
   "cell_type": "code",
   "execution_count": 21,
   "metadata": {},
   "outputs": [
    {
     "name": "stdout",
     "output_type": "stream",
     "text": [
      "Среднее значение F1-метрики:  0.6692930548268117\n"
     ]
    }
   ],
   "source": [
    "scores = cross_val_score(pipeline, features_train_0, target_train_0, cv=cv_counts, scoring='f1')\n",
    "print(\"Среднее значение F1-метрики: \", scores.mean())"
   ]
  },
  {
   "cell_type": "code",
   "execution_count": 22,
   "metadata": {},
   "outputs": [],
   "source": [
    "# Оценка модели на тестовом наборе данных\n",
    "#pipeline.fit(features_train_0, target_train_0)\n",
    "#test_accuracy = pipeline.score(features_test_0, target_test_0)\n",
    "#print(\"Accuracy на тестовом наборе данных: \", test_accuracy)"
   ]
  },
  {
   "cell_type": "markdown",
   "metadata": {},
   "source": [
    "F1 мера повысилась."
   ]
  },
  {
   "cell_type": "markdown",
   "metadata": {},
   "source": [
    "**Вывод**\n",
    "\n",
    "1) В ходе подготовки данных мы получили признаки для обучения, получили обучающую, валидационную и тестовую выборку.\n",
    "\n",
    "2) По итогу балансировки данных стало понятно, что баланс по весам самый оптимальный, с ним и работаем дальше"
   ]
  },
  {
   "cell_type": "markdown",
   "metadata": {},
   "source": [
    "## Обучение"
   ]
  },
  {
   "cell_type": "markdown",
   "metadata": {},
   "source": [
    "### Классификатор LogisticRegression"
   ]
  },
  {
   "cell_type": "code",
   "execution_count": 23,
   "metadata": {},
   "outputs": [
    {
     "name": "stdout",
     "output_type": "stream",
     "text": [
      "# Tuning hyper-parameters for f1_score\n",
      "\n",
      "Best parameters set found on development set:\n",
      "\n",
      "{'C': 10, 'class_weight': {0: 1, 1: 8.841344371679229}, 'solver': 'liblinear'}\n",
      "\n",
      "Grid scores on development set:\n",
      "\n",
      "0.703002 for {'C': 0.1, 'class_weight': {0: 1, 1: 8.841344371679229}, 'solver': 'newton-cg'}\n",
      "0.704696 for {'C': 0.1, 'class_weight': {0: 1, 1: 8.841344371679229}, 'solver': 'lbfgs'}\n",
      "0.702889 for {'C': 0.1, 'class_weight': {0: 1, 1: 8.841344371679229}, 'solver': 'liblinear'}\n",
      "0.742965 for {'C': 1, 'class_weight': {0: 1, 1: 8.841344371679229}, 'solver': 'newton-cg'}\n",
      "0.740805 for {'C': 1, 'class_weight': {0: 1, 1: 8.841344371679229}, 'solver': 'lbfgs'}\n",
      "0.742722 for {'C': 1, 'class_weight': {0: 1, 1: 8.841344371679229}, 'solver': 'liblinear'}\n",
      "0.750433 for {'C': 10, 'class_weight': {0: 1, 1: 8.841344371679229}, 'solver': 'newton-cg'}\n",
      "0.748618 for {'C': 10, 'class_weight': {0: 1, 1: 8.841344371679229}, 'solver': 'lbfgs'}\n",
      "0.750635 for {'C': 10, 'class_weight': {0: 1, 1: 8.841344371679229}, 'solver': 'liblinear'}\n",
      "\n"
     ]
    }
   ],
   "source": [
    "classificator = LogisticRegression()\n",
    "hyperparams = [{'solver':['newton-cg', 'lbfgs', 'liblinear'],\n",
    "                'C':[0.1, 1, 10],\n",
    "                'class_weight':[dict_classes]}]\n",
    "\n",
    "\n",
    "print('# Tuning hyper-parameters for f1_score')\n",
    "print()\n",
    "clf = GridSearchCV(classificator, hyperparams, scoring='f1',cv=cv_counts)\n",
    "clf.fit(features_train, target_train)\n",
    "print(\"Best parameters set found on development set:\")\n",
    "print()\n",
    "LR_best_params = clf.best_params_\n",
    "print(LR_best_params)\n",
    "print()\n",
    "print(\"Grid scores on development set:\")\n",
    "print()\n",
    "means = clf.cv_results_['mean_test_score']\n",
    "stds = clf.cv_results_['std_test_score']\n",
    "for mean, std, params in zip(means, stds, clf.cv_results_['params']):\n",
    "    print(\"%0.6f for %r\"% (mean, params))\n",
    "print()\n",
    "\n",
    "cv_f1_LR = max(means)"
   ]
  },
  {
   "cell_type": "code",
   "execution_count": 24,
   "metadata": {},
   "outputs": [
    {
     "name": "stdout",
     "output_type": "stream",
     "text": [
      "F1 на cv 0.7506353118322439\n",
      "F1 на валидации 0.75\n"
     ]
    }
   ],
   "source": [
    "classificator = LogisticRegression()\n",
    "classificator.set_params(**LR_best_params)\n",
    "classificator.fit(features_train, target_train)\n",
    "target_predict = classificator.predict(features_valid)\n",
    "valid_f1_LR = f1_score(target_valid, target_predict)\n",
    "print('F1 на cv', cv_f1_LR)\n",
    "print('F1 на валидации', valid_f1_LR)"
   ]
  },
  {
   "cell_type": "markdown",
   "metadata": {},
   "source": [
    "### Классификатор DecisionTreeClassifier"
   ]
  },
  {
   "cell_type": "code",
   "execution_count": 25,
   "metadata": {},
   "outputs": [
    {
     "name": "stdout",
     "output_type": "stream",
     "text": [
      "# Tuning hyper-parameters for f1_score\n",
      "\n",
      "Best parameters set found on development set:\n",
      "\n",
      "{'class_weight': {0: 1, 1: 8.841344371679229}, 'max_depth': 98, 'random_state': 1515}\n",
      "\n",
      "Grid scores on development set:\n",
      "\n",
      "0.632677 for {'class_weight': {0: 1, 1: 8.841344371679229}, 'max_depth': 50, 'random_state': 1515}\n",
      "0.628436 for {'class_weight': {0: 1, 1: 8.841344371679229}, 'max_depth': 52, 'random_state': 1515}\n",
      "0.633041 for {'class_weight': {0: 1, 1: 8.841344371679229}, 'max_depth': 54, 'random_state': 1515}\n",
      "0.633800 for {'class_weight': {0: 1, 1: 8.841344371679229}, 'max_depth': 56, 'random_state': 1515}\n",
      "0.633711 for {'class_weight': {0: 1, 1: 8.841344371679229}, 'max_depth': 58, 'random_state': 1515}\n",
      "0.626381 for {'class_weight': {0: 1, 1: 8.841344371679229}, 'max_depth': 60, 'random_state': 1515}\n",
      "0.627589 for {'class_weight': {0: 1, 1: 8.841344371679229}, 'max_depth': 62, 'random_state': 1515}\n",
      "0.624597 for {'class_weight': {0: 1, 1: 8.841344371679229}, 'max_depth': 64, 'random_state': 1515}\n",
      "0.626472 for {'class_weight': {0: 1, 1: 8.841344371679229}, 'max_depth': 66, 'random_state': 1515}\n",
      "0.626533 for {'class_weight': {0: 1, 1: 8.841344371679229}, 'max_depth': 68, 'random_state': 1515}\n",
      "0.628003 for {'class_weight': {0: 1, 1: 8.841344371679229}, 'max_depth': 70, 'random_state': 1515}\n",
      "0.625588 for {'class_weight': {0: 1, 1: 8.841344371679229}, 'max_depth': 72, 'random_state': 1515}\n",
      "0.634044 for {'class_weight': {0: 1, 1: 8.841344371679229}, 'max_depth': 74, 'random_state': 1515}\n",
      "0.632039 for {'class_weight': {0: 1, 1: 8.841344371679229}, 'max_depth': 76, 'random_state': 1515}\n",
      "0.636700 for {'class_weight': {0: 1, 1: 8.841344371679229}, 'max_depth': 78, 'random_state': 1515}\n",
      "0.637632 for {'class_weight': {0: 1, 1: 8.841344371679229}, 'max_depth': 80, 'random_state': 1515}\n",
      "0.634047 for {'class_weight': {0: 1, 1: 8.841344371679229}, 'max_depth': 82, 'random_state': 1515}\n",
      "0.632326 for {'class_weight': {0: 1, 1: 8.841344371679229}, 'max_depth': 84, 'random_state': 1515}\n",
      "0.629839 for {'class_weight': {0: 1, 1: 8.841344371679229}, 'max_depth': 86, 'random_state': 1515}\n",
      "0.639288 for {'class_weight': {0: 1, 1: 8.841344371679229}, 'max_depth': 88, 'random_state': 1515}\n",
      "0.638477 for {'class_weight': {0: 1, 1: 8.841344371679229}, 'max_depth': 90, 'random_state': 1515}\n",
      "0.636692 for {'class_weight': {0: 1, 1: 8.841344371679229}, 'max_depth': 92, 'random_state': 1515}\n",
      "0.639790 for {'class_weight': {0: 1, 1: 8.841344371679229}, 'max_depth': 94, 'random_state': 1515}\n",
      "0.636087 for {'class_weight': {0: 1, 1: 8.841344371679229}, 'max_depth': 96, 'random_state': 1515}\n",
      "0.640347 for {'class_weight': {0: 1, 1: 8.841344371679229}, 'max_depth': 98, 'random_state': 1515}\n",
      "\n"
     ]
    }
   ],
   "source": [
    "classificator = DecisionTreeClassifier()\n",
    "hyperparams = [{'max_depth':[x for x in range(50,100,2)],\n",
    "                'random_state':[1515],\n",
    "                'class_weight':[dict_classes]}]\n",
    "\n",
    "\n",
    "print('# Tuning hyper-parameters for f1_score')\n",
    "print()\n",
    "clf = GridSearchCV(classificator, hyperparams, scoring='f1',cv=cv_counts)\n",
    "clf.fit(features_train, target_train)\n",
    "print(\"Best parameters set found on development set:\")\n",
    "print()\n",
    "DTC_best_params = clf.best_params_\n",
    "print(DTC_best_params)\n",
    "print()\n",
    "print(\"Grid scores on development set:\")\n",
    "print()\n",
    "means = clf.cv_results_['mean_test_score']\n",
    "stds = clf.cv_results_['std_test_score']\n",
    "for mean, std, params in zip(means, stds, clf.cv_results_['params']):\n",
    "    print(\"%0.6f for %r\"% (mean, params))\n",
    "print()\n",
    "\n",
    "cv_f1_DTC = max(means)"
   ]
  },
  {
   "cell_type": "code",
   "execution_count": 26,
   "metadata": {},
   "outputs": [
    {
     "name": "stdout",
     "output_type": "stream",
     "text": [
      "F1 на cv 0.640346969572347\n",
      "F1 на валидации 0.6198681623684514\n"
     ]
    }
   ],
   "source": [
    "classificator = DecisionTreeClassifier()\n",
    "classificator.set_params(**DTC_best_params)\n",
    "classificator.fit(features_train, target_train)\n",
    "target_predict = classificator.predict(features_valid)\n",
    "valid_f1_DTC = f1_score(target_valid, target_predict)\n",
    "print('F1 на cv', cv_f1_DTC)\n",
    "print('F1 на валидации', valid_f1_DTC)"
   ]
  },
  {
   "cell_type": "markdown",
   "metadata": {},
   "source": [
    "### Классификатор CatBoostClassifier"
   ]
  },
  {
   "cell_type": "code",
   "execution_count": 27,
   "metadata": {},
   "outputs": [
    {
     "name": "stdout",
     "output_type": "stream",
     "text": [
      "F1 на cv 0.719469903991163\n",
      "F1 на валидации 0.7301261366969786\n"
     ]
    }
   ],
   "source": [
    "classificator = CatBoostClassifier(verbose=False, iterations=250)\n",
    "classificator.fit(features_train, target_train)\n",
    "target_predict = classificator.predict(features_valid)\n",
    "cv_f1_CBC = cross_val_score(classificator,\n",
    "                                         features_train, \n",
    "                                         target_train, \n",
    "                                         cv=cv_counts, \n",
    "                                         scoring='f1').mean()\n",
    "valid_f1_CBC = f1_score(target_valid, target_predict)\n",
    "print('F1 на cv', cv_f1_CBC)\n",
    "print('F1 на валидации', valid_f1_CBC)"
   ]
  },
  {
   "cell_type": "markdown",
   "metadata": {},
   "source": [
    "### Вывод по классификаторам"
   ]
  },
  {
   "cell_type": "code",
   "execution_count": 28,
   "metadata": {},
   "outputs": [
    {
     "data": {
      "text/html": [
       "<div>\n",
       "<style scoped>\n",
       "    .dataframe tbody tr th:only-of-type {\n",
       "        vertical-align: middle;\n",
       "    }\n",
       "\n",
       "    .dataframe tbody tr th {\n",
       "        vertical-align: top;\n",
       "    }\n",
       "\n",
       "    .dataframe thead th {\n",
       "        text-align: right;\n",
       "    }\n",
       "</style>\n",
       "<table border=\"1\" class=\"dataframe\">\n",
       "  <thead>\n",
       "    <tr style=\"text-align: right;\">\n",
       "      <th></th>\n",
       "      <th>F1 на CV</th>\n",
       "      <th>F1 на валидации</th>\n",
       "      <th>Выполнение задачи</th>\n",
       "    </tr>\n",
       "  </thead>\n",
       "  <tbody>\n",
       "    <tr>\n",
       "      <th>LogisticRegression</th>\n",
       "      <td>0.750635</td>\n",
       "      <td>0.750000</td>\n",
       "      <td>False</td>\n",
       "    </tr>\n",
       "    <tr>\n",
       "      <th>DecisionTreeClassifier</th>\n",
       "      <td>0.640347</td>\n",
       "      <td>0.619868</td>\n",
       "      <td>False</td>\n",
       "    </tr>\n",
       "    <tr>\n",
       "      <th>CatBoostClassifier</th>\n",
       "      <td>0.719470</td>\n",
       "      <td>0.730126</td>\n",
       "      <td>False</td>\n",
       "    </tr>\n",
       "  </tbody>\n",
       "</table>\n",
       "</div>"
      ],
      "text/plain": [
       "                        F1 на CV  F1 на валидации  Выполнение задачи\n",
       "LogisticRegression      0.750635         0.750000              False\n",
       "DecisionTreeClassifier  0.640347         0.619868              False\n",
       "CatBoostClassifier      0.719470         0.730126              False"
      ]
     },
     "execution_count": 28,
     "metadata": {},
     "output_type": "execute_result"
    }
   ],
   "source": [
    "index = ['LogisticRegression',\n",
    "         'DecisionTreeClassifier',\n",
    "         'CatBoostClassifier']\n",
    "data = {'F1 на CV':[cv_f1_LR,\n",
    "                    cv_f1_DTC,\n",
    "                    cv_f1_CBC],\n",
    "        'F1 на валидации':[valid_f1_LR,\n",
    "                           valid_f1_DTC,\n",
    "                           valid_f1_CBC]}\n",
    "\n",
    "scores_data = pd.DataFrame(data=data, index=index)\n",
    "scores_data['Выполнение задачи'] = scores_data['F1 на валидации'] > 0.75\n",
    "scores_data"
   ]
  },
  {
   "cell_type": "markdown",
   "metadata": {},
   "source": [
    "**Вывод**\n",
    "\n",
    "К тестовому набору данных перейдут LogisticRegression"
   ]
  },
  {
   "cell_type": "markdown",
   "metadata": {},
   "source": [
    "## Выводы"
   ]
  },
  {
   "cell_type": "code",
   "execution_count": 29,
   "metadata": {},
   "outputs": [
    {
     "name": "stdout",
     "output_type": "stream",
     "text": [
      "Метрики LogisticRegression\n",
      "ROC AUC: 0.9619690997849141\n",
      "F1: 0.7550753888163362\n",
      "Precision: 0.726027397260274\n",
      "Recall: 0.7865446450655453\n",
      "Accuracy: 0.9481957662657259\n",
      "\n"
     ]
    },
    {
     "data": {
      "image/png": "[encoded data removed]",
      "text/plain": [
       "<Figure size 864x648 with 1 Axes>"
      ]
     },
     "metadata": {
      "needs_background": "light"
     },
     "output_type": "display_data"
    }
   ],
   "source": [
    "plt.figure(figsize=[12,9])\n",
    "\n",
    "plt.plot([0, 1], [0, 1], linestyle='--', label='RandomModel')\n",
    "\n",
    "\n",
    "classificator = LogisticRegression()\n",
    "classificator.set_params(**LR_best_params)\n",
    "classificator.fit(features_train, target_train)\n",
    "probabilities_test = classificator.predict_proba(features_test)\n",
    "probabilities_one_test = probabilities_test[:, 1]\n",
    "fpr, tpr, thresholds = roc_curve(target_test, probabilities_one_test)\n",
    "predict_test = classificator.predict(features_test)\n",
    "plt.plot(fpr, tpr, label='LogisticRegression')\n",
    "print('Метрики LogisticRegression')\n",
    "print('ROC AUC:', roc_auc_score(target_test, probabilities_one_test))\n",
    "print('F1:', f1_score(target_test, predict_test))\n",
    "print('Precision:', precision_score(target_test, predict_test))\n",
    "print('Recall:', recall_score(target_test, predict_test))\n",
    "print('Accuracy:', accuracy_score(target_test, predict_test))\n",
    "print()\n",
    "\n",
    "plt.xlim([0,1])\n",
    "plt.ylim([0,1])\n",
    "\n",
    "plt.xlabel(\"False Positive Rate\")\n",
    "plt.ylabel(\"True Positive Rate\")\n",
    "\n",
    "plt.legend(loc='lower right', fontsize='x-large')\n",
    "\n",
    "plt.title(\"ROC-кривая\")\n",
    "plt.show()"
   ]
  },
  {
   "cell_type": "markdown",
   "metadata": {},
   "source": [
    "# Вывод\n",
    "Было прделано:\n",
    "1) Подготовленны данные обучения.\n",
    "\n",
    "2) Выбран способ баланса классов, сформированы обучающая, валидационная и тестовая выборка.\n",
    "\n",
    "3) Обучены модели и выбрана лучшая из них на валидационной выборке.\n",
    "\n",
    "4) Показаны параметры качества моделей.\n",
    "\n",
    "**Исходные данные обладают большим количеством признаков.** Созданных столбцов больше, чем записей данных. Лучшая модель стала LogisticRegression. \n",
    "\n",
    "**CatBoostClassifier может показать себя очень хорошо при долгом обучении на данных.** "
   ]
  }
 ],
 "metadata": {
  "ExecuteTimeLog": [
   {
    "duration": 1902,
    "start_time": "2024-06-25T18:31:00.396Z"
   },
   {
    "duration": 3361,
    "start_time": "2024-06-25T18:31:58.130Z"
   },
   {
    "duration": 12,
    "start_time": "2024-06-25T18:37:18.938Z"
   },
   {
    "duration": 7,
    "start_time": "2024-06-25T18:38:19.759Z"
   },
   {
    "duration": 44,
    "start_time": "2024-06-26T15:12:46.365Z"
   },
   {
    "duration": 1616,
    "start_time": "2024-06-26T15:12:55.778Z"
   },
   {
    "duration": 3090,
    "start_time": "2024-06-26T15:12:57.397Z"
   },
   {
    "duration": 13,
    "start_time": "2024-06-26T15:13:00.488Z"
   },
   {
    "duration": 75,
    "start_time": "2024-06-26T15:13:00.502Z"
   },
   {
    "duration": 300,
    "start_time": "2024-06-26T15:13:00.579Z"
   },
   {
    "duration": 20,
    "start_time": "2024-06-26T15:13:22.535Z"
   },
   {
    "duration": 21,
    "start_time": "2024-06-26T15:13:42.252Z"
   },
   {
    "duration": 23,
    "start_time": "2024-06-26T15:13:53.823Z"
   },
   {
    "duration": 9,
    "start_time": "2024-06-26T15:16:13.717Z"
   },
   {
    "duration": 8,
    "start_time": "2024-06-26T15:16:33.409Z"
   },
   {
    "duration": 22,
    "start_time": "2024-06-26T15:18:28.876Z"
   },
   {
    "duration": 10,
    "start_time": "2024-06-26T15:18:57.295Z"
   },
   {
    "duration": 6353,
    "start_time": "2024-06-26T17:27:38.013Z"
   },
   {
    "duration": 10089,
    "start_time": "2024-06-26T17:27:45.909Z"
   },
   {
    "duration": 37099,
    "start_time": "2024-06-26T17:28:04.073Z"
   },
   {
    "duration": 30964,
    "start_time": "2024-06-26T17:29:16.407Z"
   },
   {
    "duration": 23869,
    "start_time": "2024-06-26T17:30:21.019Z"
   },
   {
    "duration": 14,
    "start_time": "2024-06-26T17:38:25.706Z"
   },
   {
    "duration": 952,
    "start_time": "2024-06-26T17:38:26.511Z"
   },
   {
    "duration": 18093,
    "start_time": "2024-06-26T17:38:28.389Z"
   },
   {
    "duration": 61985,
    "start_time": "2024-06-26T17:38:51.276Z"
   },
   {
    "duration": 9,
    "start_time": "2024-06-26T17:40:33.537Z"
   },
   {
    "duration": 122888,
    "start_time": "2024-06-26T17:41:50.698Z"
   },
   {
    "duration": 0,
    "start_time": "2024-06-26T17:43:53.588Z"
   },
   {
    "duration": 98300,
    "start_time": "2024-06-26T17:44:02.692Z"
   },
   {
    "duration": 0,
    "start_time": "2024-06-26T17:45:40.994Z"
   },
   {
    "duration": 203951,
    "start_time": "2024-06-26T17:45:46.146Z"
   },
   {
    "duration": 21350,
    "start_time": "2024-06-26T17:55:05.455Z"
   },
   {
    "duration": 625813,
    "start_time": "2024-06-26T17:56:31.329Z"
   },
   {
    "duration": 26051,
    "start_time": "2024-06-26T18:10:03.454Z"
   },
   {
    "duration": 846548,
    "start_time": "2024-06-26T18:11:05.042Z"
   },
   {
    "duration": 9,
    "start_time": "2024-06-26T18:27:13.869Z"
   },
   {
    "duration": 22316,
    "start_time": "2024-06-26T18:27:17.055Z"
   },
   {
    "duration": 71,
    "start_time": "2024-07-01T19:09:42.847Z"
   },
   {
    "duration": 1937,
    "start_time": "2024-07-01T19:21:58.960Z"
   },
   {
    "duration": 2438,
    "start_time": "2024-07-01T19:22:00.899Z"
   },
   {
    "duration": 12,
    "start_time": "2024-07-01T19:22:03.339Z"
   },
   {
    "duration": 17,
    "start_time": "2024-07-01T19:22:03.353Z"
   },
   {
    "duration": 15,
    "start_time": "2024-07-01T19:22:03.373Z"
   },
   {
    "duration": 27,
    "start_time": "2024-07-01T19:22:03.390Z"
   },
   {
    "duration": 91,
    "start_time": "2024-07-01T19:22:03.419Z"
   },
   {
    "duration": 21,
    "start_time": "2024-07-01T19:22:03.512Z"
   },
   {
    "duration": 7964,
    "start_time": "2024-07-01T19:22:03.535Z"
   },
   {
    "duration": 7169,
    "start_time": "2024-07-01T19:22:11.501Z"
   },
   {
    "duration": 47303,
    "start_time": "2024-07-01T19:22:18.671Z"
   },
   {
    "duration": 39387,
    "start_time": "2024-07-01T19:23:05.978Z"
   },
   {
    "duration": 33724,
    "start_time": "2024-07-01T19:23:45.367Z"
   },
   {
    "duration": 22,
    "start_time": "2024-07-01T19:24:19.094Z"
   },
   {
    "duration": 1177,
    "start_time": "2024-07-01T19:24:19.161Z"
   },
   {
    "duration": 22321,
    "start_time": "2024-07-01T19:24:20.340Z"
   },
   {
    "duration": 80109,
    "start_time": "2024-07-01T19:24:42.663Z"
   },
   {
    "duration": 10,
    "start_time": "2024-07-01T19:26:02.774Z"
   },
   {
    "duration": 285223,
    "start_time": "2024-07-01T19:26:02.785Z"
   },
   {
    "duration": 30193,
    "start_time": "2024-07-01T19:30:48.010Z"
   },
   {
    "duration": 1678,
    "start_time": "2024-07-01T19:38:32.591Z"
   },
   {
    "duration": 0,
    "start_time": "2024-07-01T19:38:34.342Z"
   },
   {
    "duration": 0,
    "start_time": "2024-07-01T19:38:34.343Z"
   },
   {
    "duration": 0,
    "start_time": "2024-07-01T19:38:34.344Z"
   },
   {
    "duration": 0,
    "start_time": "2024-07-01T19:38:34.345Z"
   },
   {
    "duration": 0,
    "start_time": "2024-07-01T19:38:34.346Z"
   },
   {
    "duration": 0,
    "start_time": "2024-07-01T19:38:34.347Z"
   },
   {
    "duration": 0,
    "start_time": "2024-07-01T19:38:34.348Z"
   },
   {
    "duration": 0,
    "start_time": "2024-07-01T19:38:34.360Z"
   },
   {
    "duration": 0,
    "start_time": "2024-07-01T19:38:34.361Z"
   },
   {
    "duration": 0,
    "start_time": "2024-07-01T19:38:34.362Z"
   },
   {
    "duration": 0,
    "start_time": "2024-07-01T19:38:34.363Z"
   },
   {
    "duration": 0,
    "start_time": "2024-07-01T19:38:34.364Z"
   },
   {
    "duration": 0,
    "start_time": "2024-07-01T19:38:34.365Z"
   },
   {
    "duration": 0,
    "start_time": "2024-07-01T19:38:34.366Z"
   },
   {
    "duration": 0,
    "start_time": "2024-07-01T19:38:34.367Z"
   },
   {
    "duration": 0,
    "start_time": "2024-07-01T19:38:34.369Z"
   },
   {
    "duration": 0,
    "start_time": "2024-07-01T19:38:34.370Z"
   },
   {
    "duration": 0,
    "start_time": "2024-07-01T19:38:34.371Z"
   },
   {
    "duration": 0,
    "start_time": "2024-07-01T19:38:34.372Z"
   },
   {
    "duration": 0,
    "start_time": "2024-07-01T19:38:34.373Z"
   },
   {
    "duration": 0,
    "start_time": "2024-07-01T19:38:34.374Z"
   },
   {
    "duration": 0,
    "start_time": "2024-07-01T19:38:34.375Z"
   },
   {
    "duration": 0,
    "start_time": "2024-07-01T19:38:34.376Z"
   },
   {
    "duration": 0,
    "start_time": "2024-07-01T19:38:34.377Z"
   },
   {
    "duration": 14,
    "start_time": "2024-07-01T19:39:47.023Z"
   },
   {
    "duration": 7162,
    "start_time": "2024-07-01T19:41:10.670Z"
   },
   {
    "duration": 25,
    "start_time": "2024-07-01T19:41:24.777Z"
   },
   {
    "duration": 2511,
    "start_time": "2024-07-01T19:42:27.733Z"
   },
   {
    "duration": 1793,
    "start_time": "2024-07-01T19:42:30.246Z"
   },
   {
    "duration": 934,
    "start_time": "2024-07-01T19:42:32.041Z"
   },
   {
    "duration": 11,
    "start_time": "2024-07-01T19:42:32.977Z"
   },
   {
    "duration": 46,
    "start_time": "2024-07-01T19:42:32.990Z"
   },
   {
    "duration": 12,
    "start_time": "2024-07-01T19:42:33.037Z"
   },
   {
    "duration": 11,
    "start_time": "2024-07-01T19:42:33.050Z"
   },
   {
    "duration": 34,
    "start_time": "2024-07-01T19:42:33.062Z"
   },
   {
    "duration": 14,
    "start_time": "2024-07-01T19:42:33.097Z"
   },
   {
    "duration": 7604,
    "start_time": "2024-07-01T19:42:33.114Z"
   },
   {
    "duration": 187,
    "start_time": "2024-07-01T19:42:40.720Z"
   },
   {
    "duration": 0,
    "start_time": "2024-07-01T19:42:40.909Z"
   },
   {
    "duration": 0,
    "start_time": "2024-07-01T19:42:40.911Z"
   },
   {
    "duration": 0,
    "start_time": "2024-07-01T19:42:40.913Z"
   },
   {
    "duration": 0,
    "start_time": "2024-07-01T19:42:40.914Z"
   },
   {
    "duration": 0,
    "start_time": "2024-07-01T19:42:40.916Z"
   },
   {
    "duration": 0,
    "start_time": "2024-07-01T19:42:40.917Z"
   },
   {
    "duration": 0,
    "start_time": "2024-07-01T19:42:40.919Z"
   },
   {
    "duration": 0,
    "start_time": "2024-07-01T19:42:40.920Z"
   },
   {
    "duration": 0,
    "start_time": "2024-07-01T19:42:40.921Z"
   },
   {
    "duration": 0,
    "start_time": "2024-07-01T19:42:40.923Z"
   },
   {
    "duration": 0,
    "start_time": "2024-07-01T19:42:40.925Z"
   },
   {
    "duration": 0,
    "start_time": "2024-07-01T19:42:40.926Z"
   },
   {
    "duration": 0,
    "start_time": "2024-07-01T19:42:40.928Z"
   },
   {
    "duration": 0,
    "start_time": "2024-07-01T19:42:40.929Z"
   },
   {
    "duration": 0,
    "start_time": "2024-07-01T19:42:40.961Z"
   },
   {
    "duration": 60,
    "start_time": "2024-07-01T19:44:13.414Z"
   },
   {
    "duration": 62,
    "start_time": "2024-07-01T19:45:26.292Z"
   },
   {
    "duration": 7015,
    "start_time": "2024-07-01T19:52:31.134Z"
   },
   {
    "duration": 7,
    "start_time": "2024-07-01T19:53:48.192Z"
   },
   {
    "duration": 34552,
    "start_time": "2024-07-01T19:54:09.830Z"
   },
   {
    "duration": 20983,
    "start_time": "2024-07-01T19:55:47.279Z"
   },
   {
    "duration": 20408,
    "start_time": "2024-07-01T19:56:11.072Z"
   },
   {
    "duration": 22,
    "start_time": "2024-07-01T19:56:51.938Z"
   },
   {
    "duration": 647,
    "start_time": "2024-07-01T19:56:52.303Z"
   },
   {
    "duration": 9394,
    "start_time": "2024-07-01T19:56:54.369Z"
   },
   {
    "duration": 31752,
    "start_time": "2024-07-01T19:57:03.767Z"
   },
   {
    "duration": 11,
    "start_time": "2024-07-01T19:57:35.521Z"
   },
   {
    "duration": 0,
    "start_time": "2024-07-01T19:57:35.533Z"
   },
   {
    "duration": 0,
    "start_time": "2024-07-01T19:57:35.535Z"
   },
   {
    "duration": 0,
    "start_time": "2024-07-01T19:57:35.535Z"
   },
   {
    "duration": 0,
    "start_time": "2024-07-01T19:57:35.537Z"
   },
   {
    "duration": 0,
    "start_time": "2024-07-01T19:57:35.538Z"
   },
   {
    "duration": 0,
    "start_time": "2024-07-01T19:57:35.539Z"
   },
   {
    "duration": 0,
    "start_time": "2024-07-01T19:57:35.540Z"
   },
   {
    "duration": 8175,
    "start_time": "2024-07-02T03:31:28.127Z"
   },
   {
    "duration": 1674,
    "start_time": "2024-07-02T03:31:36.304Z"
   },
   {
    "duration": 3421,
    "start_time": "2024-07-02T03:31:37.979Z"
   },
   {
    "duration": 28,
    "start_time": "2024-07-02T03:31:41.402Z"
   },
   {
    "duration": 7,
    "start_time": "2024-07-02T03:31:41.433Z"
   },
   {
    "duration": 10,
    "start_time": "2024-07-02T03:31:41.442Z"
   },
   {
    "duration": 10,
    "start_time": "2024-07-02T03:31:41.453Z"
   },
   {
    "duration": 40,
    "start_time": "2024-07-02T03:31:41.465Z"
   },
   {
    "duration": 26,
    "start_time": "2024-07-02T03:31:41.507Z"
   },
   {
    "duration": 7855,
    "start_time": "2024-07-02T03:31:41.537Z"
   },
   {
    "duration": 36238,
    "start_time": "2024-07-02T03:31:49.393Z"
   },
   {
    "duration": 23793,
    "start_time": "2024-07-02T03:32:25.635Z"
   },
   {
    "duration": 22590,
    "start_time": "2024-07-02T03:32:49.430Z"
   },
   {
    "duration": 21,
    "start_time": "2024-07-02T03:33:12.027Z"
   },
   {
    "duration": 645,
    "start_time": "2024-07-02T03:33:12.050Z"
   },
   {
    "duration": 13828,
    "start_time": "2024-07-02T03:33:12.697Z"
   },
   {
    "duration": 33310,
    "start_time": "2024-07-02T03:33:26.526Z"
   },
   {
    "duration": 139,
    "start_time": "2024-07-02T03:33:59.837Z"
   },
   {
    "duration": 0,
    "start_time": "2024-07-02T03:33:59.977Z"
   },
   {
    "duration": 0,
    "start_time": "2024-07-02T03:33:59.979Z"
   },
   {
    "duration": 0,
    "start_time": "2024-07-02T03:33:59.980Z"
   },
   {
    "duration": 0,
    "start_time": "2024-07-02T03:33:59.981Z"
   },
   {
    "duration": 0,
    "start_time": "2024-07-02T03:33:59.982Z"
   },
   {
    "duration": 0,
    "start_time": "2024-07-02T03:33:59.983Z"
   },
   {
    "duration": 0,
    "start_time": "2024-07-02T03:33:59.984Z"
   },
   {
    "duration": 2736,
    "start_time": "2024-07-02T03:36:05.122Z"
   },
   {
    "duration": 1453,
    "start_time": "2024-07-02T03:36:07.860Z"
   },
   {
    "duration": 936,
    "start_time": "2024-07-02T03:36:09.314Z"
   },
   {
    "duration": 11,
    "start_time": "2024-07-02T03:36:10.252Z"
   },
   {
    "duration": 7,
    "start_time": "2024-07-02T03:36:10.265Z"
   },
   {
    "duration": 9,
    "start_time": "2024-07-02T03:36:10.273Z"
   },
   {
    "duration": 37,
    "start_time": "2024-07-02T03:36:10.284Z"
   },
   {
    "duration": 24,
    "start_time": "2024-07-02T03:36:10.322Z"
   },
   {
    "duration": 10,
    "start_time": "2024-07-02T03:36:10.347Z"
   },
   {
    "duration": 7224,
    "start_time": "2024-07-02T03:36:10.358Z"
   },
   {
    "duration": 37029,
    "start_time": "2024-07-02T03:36:17.584Z"
   },
   {
    "duration": 23013,
    "start_time": "2024-07-02T03:36:54.614Z"
   },
   {
    "duration": 21497,
    "start_time": "2024-07-02T03:37:17.628Z"
   },
   {
    "duration": 90,
    "start_time": "2024-07-02T03:37:39.131Z"
   },
   {
    "duration": 60,
    "start_time": "2024-07-02T03:37:39.223Z"
   },
   {
    "duration": 0,
    "start_time": "2024-07-02T03:37:39.284Z"
   },
   {
    "duration": 0,
    "start_time": "2024-07-02T03:37:39.286Z"
   },
   {
    "duration": 0,
    "start_time": "2024-07-02T03:37:39.287Z"
   },
   {
    "duration": 0,
    "start_time": "2024-07-02T03:37:39.288Z"
   },
   {
    "duration": 0,
    "start_time": "2024-07-02T03:37:39.289Z"
   },
   {
    "duration": 0,
    "start_time": "2024-07-02T03:37:39.290Z"
   },
   {
    "duration": 0,
    "start_time": "2024-07-02T03:37:39.292Z"
   },
   {
    "duration": 0,
    "start_time": "2024-07-02T03:37:39.293Z"
   },
   {
    "duration": 0,
    "start_time": "2024-07-02T03:37:39.294Z"
   },
   {
    "duration": 0,
    "start_time": "2024-07-02T03:37:39.296Z"
   },
   {
    "duration": 0,
    "start_time": "2024-07-02T03:37:39.297Z"
   },
   {
    "duration": 2,
    "start_time": "2024-07-02T03:38:03.828Z"
   },
   {
    "duration": 88539,
    "start_time": "2024-07-02T03:38:04.932Z"
   },
   {
    "duration": 5,
    "start_time": "2024-07-02T03:40:36.419Z"
   },
   {
    "duration": 2728,
    "start_time": "2024-07-02T03:41:45.227Z"
   },
   {
    "duration": 1500,
    "start_time": "2024-07-02T03:41:47.957Z"
   },
   {
    "duration": 1071,
    "start_time": "2024-07-02T03:41:49.459Z"
   },
   {
    "duration": 12,
    "start_time": "2024-07-02T03:41:50.532Z"
   },
   {
    "duration": 13,
    "start_time": "2024-07-02T03:41:50.546Z"
   },
   {
    "duration": 10,
    "start_time": "2024-07-02T03:41:50.560Z"
   },
   {
    "duration": 8,
    "start_time": "2024-07-02T03:41:50.571Z"
   },
   {
    "duration": 48,
    "start_time": "2024-07-02T03:41:50.581Z"
   },
   {
    "duration": 10,
    "start_time": "2024-07-02T03:41:50.631Z"
   },
   {
    "duration": 7173,
    "start_time": "2024-07-02T03:41:50.642Z"
   },
   {
    "duration": 37511,
    "start_time": "2024-07-02T03:41:57.822Z"
   },
   {
    "duration": 23686,
    "start_time": "2024-07-02T03:42:35.335Z"
   },
   {
    "duration": 21101,
    "start_time": "2024-07-02T03:42:59.025Z"
   },
   {
    "duration": 3,
    "start_time": "2024-07-02T03:43:20.128Z"
   },
   {
    "duration": 17,
    "start_time": "2024-07-02T03:43:20.132Z"
   },
   {
    "duration": 8,
    "start_time": "2024-07-02T03:43:20.150Z"
   },
   {
    "duration": 74709,
    "start_time": "2024-07-02T03:43:20.159Z"
   },
   {
    "duration": 28012,
    "start_time": "2024-07-02T03:44:34.869Z"
   },
   {
    "duration": 0,
    "start_time": "2024-07-02T03:45:02.882Z"
   },
   {
    "duration": 0,
    "start_time": "2024-07-02T03:45:02.883Z"
   },
   {
    "duration": 0,
    "start_time": "2024-07-02T03:45:02.884Z"
   },
   {
    "duration": 0,
    "start_time": "2024-07-02T03:45:02.885Z"
   },
   {
    "duration": 0,
    "start_time": "2024-07-02T03:45:02.886Z"
   },
   {
    "duration": 0,
    "start_time": "2024-07-02T03:45:02.887Z"
   },
   {
    "duration": 0,
    "start_time": "2024-07-02T03:45:02.888Z"
   },
   {
    "duration": 0,
    "start_time": "2024-07-02T03:45:02.889Z"
   },
   {
    "duration": 26882,
    "start_time": "2024-07-02T03:53:05.867Z"
   },
   {
    "duration": 26642,
    "start_time": "2024-07-02T03:55:13.062Z"
   },
   {
    "duration": 25972,
    "start_time": "2024-07-02T03:56:22.888Z"
   },
   {
    "duration": 15653,
    "start_time": "2024-07-02T03:58:23.788Z"
   },
   {
    "duration": 26960,
    "start_time": "2024-07-02T04:00:40.318Z"
   },
   {
    "duration": 26645,
    "start_time": "2024-07-02T04:03:00.529Z"
   },
   {
    "duration": 26756,
    "start_time": "2024-07-02T04:04:10.939Z"
   },
   {
    "duration": 9,
    "start_time": "2024-07-02T04:05:24.978Z"
   },
   {
    "duration": 2757,
    "start_time": "2024-07-02T04:10:32.741Z"
   },
   {
    "duration": 1454,
    "start_time": "2024-07-02T04:10:35.500Z"
   },
   {
    "duration": 900,
    "start_time": "2024-07-02T04:10:36.956Z"
   },
   {
    "duration": 9,
    "start_time": "2024-07-02T04:10:37.858Z"
   },
   {
    "duration": 16,
    "start_time": "2024-07-02T04:10:37.868Z"
   },
   {
    "duration": 8,
    "start_time": "2024-07-02T04:10:37.885Z"
   },
   {
    "duration": 29,
    "start_time": "2024-07-02T04:10:37.894Z"
   },
   {
    "duration": 23,
    "start_time": "2024-07-02T04:10:37.925Z"
   },
   {
    "duration": 11,
    "start_time": "2024-07-02T04:10:37.950Z"
   },
   {
    "duration": 7229,
    "start_time": "2024-07-02T04:10:37.963Z"
   },
   {
    "duration": 38041,
    "start_time": "2024-07-02T04:10:45.193Z"
   },
   {
    "duration": 23581,
    "start_time": "2024-07-02T04:11:23.236Z"
   },
   {
    "duration": 22596,
    "start_time": "2024-07-02T04:11:46.825Z"
   },
   {
    "duration": 3,
    "start_time": "2024-07-02T04:12:09.422Z"
   },
   {
    "duration": 4,
    "start_time": "2024-07-02T04:12:09.427Z"
   },
   {
    "duration": 8,
    "start_time": "2024-07-02T04:12:09.433Z"
   },
   {
    "duration": 73825,
    "start_time": "2024-07-02T04:12:09.442Z"
   },
   {
    "duration": 235249,
    "start_time": "2024-07-02T04:13:23.268Z"
   },
   {
    "duration": 14705,
    "start_time": "2024-07-02T04:17:18.519Z"
   },
   {
    "duration": 2002110,
    "start_time": "2024-07-02T04:17:33.227Z"
   },
   {
    "duration": 47653,
    "start_time": "2024-07-02T04:50:55.339Z"
   },
   {
    "duration": 1367575,
    "start_time": "2024-07-02T04:51:42.993Z"
   },
   {
    "duration": 11,
    "start_time": "2024-07-02T05:14:30.570Z"
   },
   {
    "duration": 10851,
    "start_time": "2024-07-02T05:14:30.582Z"
   },
   {
    "duration": 6672,
    "start_time": "2024-07-05T02:34:44.916Z"
   },
   {
    "duration": 1476,
    "start_time": "2024-07-05T02:34:51.591Z"
   },
   {
    "duration": 2224,
    "start_time": "2024-07-05T02:34:53.069Z"
   },
   {
    "duration": 8,
    "start_time": "2024-07-05T02:34:55.295Z"
   },
   {
    "duration": 62,
    "start_time": "2024-07-05T02:34:55.304Z"
   },
   {
    "duration": 100,
    "start_time": "2024-07-05T02:34:55.367Z"
   },
   {
    "duration": 13,
    "start_time": "2024-07-05T02:34:55.468Z"
   },
   {
    "duration": 29,
    "start_time": "2024-07-05T02:34:55.482Z"
   },
   {
    "duration": 10,
    "start_time": "2024-07-05T02:34:55.513Z"
   },
   {
    "duration": 6581,
    "start_time": "2024-07-05T02:34:55.526Z"
   },
   {
    "duration": 29997,
    "start_time": "2024-07-05T02:35:02.108Z"
   },
   {
    "duration": 16799,
    "start_time": "2024-07-05T02:35:32.107Z"
   },
   {
    "duration": 17497,
    "start_time": "2024-07-05T02:35:48.907Z"
   },
   {
    "duration": 2,
    "start_time": "2024-07-05T02:36:06.406Z"
   },
   {
    "duration": 93,
    "start_time": "2024-07-05T02:36:06.409Z"
   },
   {
    "duration": 8,
    "start_time": "2024-07-05T02:36:06.504Z"
   },
   {
    "duration": 58152,
    "start_time": "2024-07-05T02:36:06.513Z"
   },
   {
    "duration": 181441,
    "start_time": "2024-07-05T02:37:04.666Z"
   },
   {
    "duration": 9502,
    "start_time": "2024-07-05T02:40:06.108Z"
   },
   {
    "duration": 1617484,
    "start_time": "2024-07-05T02:40:15.611Z"
   },
   {
    "duration": 39006,
    "start_time": "2024-07-05T03:07:13.096Z"
   },
   {
    "duration": 1172431,
    "start_time": "2024-07-05T03:07:52.103Z"
   },
   {
    "duration": 9,
    "start_time": "2024-07-05T03:27:24.536Z"
   },
   {
    "duration": 8717,
    "start_time": "2024-07-05T03:27:24.546Z"
   },
   {
    "duration": 7945,
    "start_time": "2024-07-06T16:40:57.177Z"
   },
   {
    "duration": 1837,
    "start_time": "2024-07-06T16:41:05.125Z"
   },
   {
    "duration": 3441,
    "start_time": "2024-07-06T16:41:06.965Z"
   },
   {
    "duration": 11,
    "start_time": "2024-07-06T16:41:10.407Z"
   },
   {
    "duration": 9,
    "start_time": "2024-07-06T16:41:10.419Z"
   },
   {
    "duration": 18,
    "start_time": "2024-07-06T16:41:10.429Z"
   },
   {
    "duration": 10,
    "start_time": "2024-07-06T16:41:10.449Z"
   },
   {
    "duration": 46,
    "start_time": "2024-07-06T16:41:10.461Z"
   },
   {
    "duration": 24,
    "start_time": "2024-07-06T16:41:10.509Z"
   },
   {
    "duration": 8769,
    "start_time": "2024-07-06T16:41:10.537Z"
   },
   {
    "duration": 33287,
    "start_time": "2024-07-06T16:41:19.308Z"
   },
   {
    "duration": 23703,
    "start_time": "2024-07-06T16:41:52.596Z"
   },
   {
    "duration": 21315,
    "start_time": "2024-07-06T16:42:16.301Z"
   },
   {
    "duration": 72,
    "start_time": "2024-07-06T16:42:37.619Z"
   },
   {
    "duration": 3,
    "start_time": "2024-07-06T16:42:37.693Z"
   },
   {
    "duration": 4,
    "start_time": "2024-07-06T16:42:37.698Z"
   },
   {
    "duration": 181,
    "start_time": "2024-07-06T16:42:37.703Z"
   },
   {
    "duration": 0,
    "start_time": "2024-07-06T16:42:37.886Z"
   },
   {
    "duration": 0,
    "start_time": "2024-07-06T16:42:37.887Z"
   },
   {
    "duration": 0,
    "start_time": "2024-07-06T16:42:37.889Z"
   },
   {
    "duration": 0,
    "start_time": "2024-07-06T16:42:37.891Z"
   },
   {
    "duration": 0,
    "start_time": "2024-07-06T16:42:37.892Z"
   },
   {
    "duration": 0,
    "start_time": "2024-07-06T16:42:37.893Z"
   },
   {
    "duration": 0,
    "start_time": "2024-07-06T16:42:37.894Z"
   },
   {
    "duration": 15,
    "start_time": "2024-07-06T16:45:17.624Z"
   },
   {
    "duration": 18,
    "start_time": "2024-07-06T16:47:13.275Z"
   },
   {
    "duration": 14,
    "start_time": "2024-07-06T16:48:50.687Z"
   },
   {
    "duration": 17,
    "start_time": "2024-07-06T16:48:54.460Z"
   },
   {
    "duration": 4,
    "start_time": "2024-07-06T16:48:58.497Z"
   },
   {
    "duration": 16,
    "start_time": "2024-07-06T16:49:11.980Z"
   },
   {
    "duration": 13,
    "start_time": "2024-07-06T16:52:11.702Z"
   },
   {
    "duration": 2558,
    "start_time": "2024-07-06T16:54:38.873Z"
   },
   {
    "duration": 1531,
    "start_time": "2024-07-06T16:54:41.433Z"
   },
   {
    "duration": 1052,
    "start_time": "2024-07-06T16:54:42.966Z"
   },
   {
    "duration": 15,
    "start_time": "2024-07-06T16:54:44.020Z"
   },
   {
    "duration": 8,
    "start_time": "2024-07-06T16:54:44.036Z"
   },
   {
    "duration": 17,
    "start_time": "2024-07-06T16:54:44.045Z"
   },
   {
    "duration": 30,
    "start_time": "2024-07-06T16:54:44.063Z"
   },
   {
    "duration": 32,
    "start_time": "2024-07-06T16:54:44.094Z"
   },
   {
    "duration": 12,
    "start_time": "2024-07-06T16:54:44.128Z"
   },
   {
    "duration": 7913,
    "start_time": "2024-07-06T16:54:44.142Z"
   },
   {
    "duration": 1331,
    "start_time": "2024-07-06T16:54:52.058Z"
   },
   {
    "duration": 0,
    "start_time": "2024-07-06T16:54:53.391Z"
   },
   {
    "duration": 0,
    "start_time": "2024-07-06T16:54:53.392Z"
   },
   {
    "duration": 0,
    "start_time": "2024-07-06T16:54:53.393Z"
   },
   {
    "duration": 0,
    "start_time": "2024-07-06T16:54:53.394Z"
   },
   {
    "duration": 0,
    "start_time": "2024-07-06T16:54:53.396Z"
   },
   {
    "duration": 0,
    "start_time": "2024-07-06T16:54:53.397Z"
   },
   {
    "duration": 0,
    "start_time": "2024-07-06T16:54:53.398Z"
   },
   {
    "duration": 0,
    "start_time": "2024-07-06T16:54:53.399Z"
   },
   {
    "duration": 0,
    "start_time": "2024-07-06T16:54:53.400Z"
   },
   {
    "duration": 0,
    "start_time": "2024-07-06T16:54:53.402Z"
   },
   {
    "duration": 0,
    "start_time": "2024-07-06T16:54:53.403Z"
   },
   {
    "duration": 0,
    "start_time": "2024-07-06T16:54:53.404Z"
   },
   {
    "duration": 0,
    "start_time": "2024-07-06T16:54:53.405Z"
   },
   {
    "duration": 0,
    "start_time": "2024-07-06T16:54:53.406Z"
   },
   {
    "duration": 35025,
    "start_time": "2024-07-06T16:56:15.471Z"
   },
   {
    "duration": 22152,
    "start_time": "2024-07-06T16:57:51.570Z"
   },
   {
    "duration": 20895,
    "start_time": "2024-07-06T16:58:13.797Z"
   },
   {
    "duration": 3,
    "start_time": "2024-07-06T16:58:34.693Z"
   },
   {
    "duration": 10,
    "start_time": "2024-07-06T16:58:34.697Z"
   },
   {
    "duration": 12,
    "start_time": "2024-07-06T16:58:34.709Z"
   },
   {
    "duration": 25,
    "start_time": "2024-07-06T16:58:34.723Z"
   },
   {
    "duration": 0,
    "start_time": "2024-07-06T16:58:34.750Z"
   },
   {
    "duration": 2557,
    "start_time": "2024-07-06T17:03:18.731Z"
   },
   {
    "duration": 1577,
    "start_time": "2024-07-06T17:03:21.290Z"
   },
   {
    "duration": 1049,
    "start_time": "2024-07-06T17:03:22.868Z"
   },
   {
    "duration": 11,
    "start_time": "2024-07-06T17:03:23.919Z"
   },
   {
    "duration": 71,
    "start_time": "2024-07-06T17:03:23.932Z"
   },
   {
    "duration": 23,
    "start_time": "2024-07-06T17:03:24.005Z"
   },
   {
    "duration": 37,
    "start_time": "2024-07-06T17:03:24.030Z"
   },
   {
    "duration": 70,
    "start_time": "2024-07-06T17:03:24.069Z"
   },
   {
    "duration": 12,
    "start_time": "2024-07-06T17:03:24.141Z"
   },
   {
    "duration": 8055,
    "start_time": "2024-07-06T17:03:24.156Z"
   },
   {
    "duration": 34280,
    "start_time": "2024-07-06T17:03:32.212Z"
   },
   {
    "duration": 22518,
    "start_time": "2024-07-06T17:04:06.494Z"
   },
   {
    "duration": 21779,
    "start_time": "2024-07-06T17:04:29.013Z"
   },
   {
    "duration": 3,
    "start_time": "2024-07-06T17:04:50.794Z"
   },
   {
    "duration": 27,
    "start_time": "2024-07-06T17:04:50.799Z"
   },
   {
    "duration": 178,
    "start_time": "2024-07-06T17:04:50.828Z"
   },
   {
    "duration": 0,
    "start_time": "2024-07-06T17:04:51.008Z"
   },
   {
    "duration": 0,
    "start_time": "2024-07-06T17:04:51.009Z"
   },
   {
    "duration": 0,
    "start_time": "2024-07-06T17:04:51.009Z"
   },
   {
    "duration": 0,
    "start_time": "2024-07-06T17:04:51.011Z"
   },
   {
    "duration": 0,
    "start_time": "2024-07-06T17:04:51.012Z"
   },
   {
    "duration": 0,
    "start_time": "2024-07-06T17:04:51.013Z"
   },
   {
    "duration": 0,
    "start_time": "2024-07-06T17:04:51.014Z"
   },
   {
    "duration": 0,
    "start_time": "2024-07-06T17:04:51.015Z"
   },
   {
    "duration": 0,
    "start_time": "2024-07-06T17:04:51.017Z"
   },
   {
    "duration": 0,
    "start_time": "2024-07-06T17:04:51.018Z"
   },
   {
    "duration": 4,
    "start_time": "2024-07-06T17:06:42.726Z"
   },
   {
    "duration": 14,
    "start_time": "2024-07-06T17:14:54.969Z"
   },
   {
    "duration": 14,
    "start_time": "2024-07-06T17:16:06.709Z"
   },
   {
    "duration": 15,
    "start_time": "2024-07-06T17:18:58.600Z"
   },
   {
    "duration": 20,
    "start_time": "2024-07-06T17:19:23.352Z"
   },
   {
    "duration": 14,
    "start_time": "2024-07-06T17:20:37.200Z"
   },
   {
    "duration": 2550,
    "start_time": "2024-07-06T17:21:58.276Z"
   },
   {
    "duration": 1629,
    "start_time": "2024-07-06T17:22:00.829Z"
   },
   {
    "duration": 1066,
    "start_time": "2024-07-06T17:22:02.460Z"
   },
   {
    "duration": 10,
    "start_time": "2024-07-06T17:22:03.528Z"
   },
   {
    "duration": 14,
    "start_time": "2024-07-06T17:22:03.540Z"
   },
   {
    "duration": 12,
    "start_time": "2024-07-06T17:22:03.556Z"
   },
   {
    "duration": 87,
    "start_time": "2024-07-06T17:22:03.570Z"
   },
   {
    "duration": 47,
    "start_time": "2024-07-06T17:22:03.659Z"
   },
   {
    "duration": 14,
    "start_time": "2024-07-06T17:22:03.707Z"
   },
   {
    "duration": 7893,
    "start_time": "2024-07-06T17:22:03.722Z"
   },
   {
    "duration": 34586,
    "start_time": "2024-07-06T17:22:11.616Z"
   },
   {
    "duration": 22588,
    "start_time": "2024-07-06T17:22:46.205Z"
   },
   {
    "duration": 21114,
    "start_time": "2024-07-06T17:23:08.796Z"
   },
   {
    "duration": 2,
    "start_time": "2024-07-06T17:23:29.913Z"
   },
   {
    "duration": 12,
    "start_time": "2024-07-06T17:23:29.917Z"
   },
   {
    "duration": 209,
    "start_time": "2024-07-06T17:23:29.930Z"
   },
   {
    "duration": 1,
    "start_time": "2024-07-06T17:23:30.141Z"
   },
   {
    "duration": 0,
    "start_time": "2024-07-06T17:23:30.143Z"
   },
   {
    "duration": 0,
    "start_time": "2024-07-06T17:23:30.145Z"
   },
   {
    "duration": 0,
    "start_time": "2024-07-06T17:23:30.146Z"
   },
   {
    "duration": 0,
    "start_time": "2024-07-06T17:23:30.148Z"
   },
   {
    "duration": 0,
    "start_time": "2024-07-06T17:23:30.149Z"
   },
   {
    "duration": 0,
    "start_time": "2024-07-06T17:23:30.151Z"
   },
   {
    "duration": 0,
    "start_time": "2024-07-06T17:23:30.153Z"
   },
   {
    "duration": 0,
    "start_time": "2024-07-06T17:23:30.154Z"
   },
   {
    "duration": 3,
    "start_time": "2024-07-06T17:25:22.948Z"
   },
   {
    "duration": 15,
    "start_time": "2024-07-06T17:25:31.997Z"
   },
   {
    "duration": 13,
    "start_time": "2024-07-06T17:32:44.916Z"
   },
   {
    "duration": 2588,
    "start_time": "2024-07-06T17:37:46.088Z"
   },
   {
    "duration": 1574,
    "start_time": "2024-07-06T17:37:48.678Z"
   },
   {
    "duration": 1038,
    "start_time": "2024-07-06T17:37:50.254Z"
   },
   {
    "duration": 11,
    "start_time": "2024-07-06T17:37:51.294Z"
   },
   {
    "duration": 26,
    "start_time": "2024-07-06T17:37:51.307Z"
   },
   {
    "duration": 21,
    "start_time": "2024-07-06T17:37:51.334Z"
   },
   {
    "duration": 26,
    "start_time": "2024-07-06T17:37:51.357Z"
   },
   {
    "duration": 106,
    "start_time": "2024-07-06T17:37:51.385Z"
   },
   {
    "duration": 30,
    "start_time": "2024-07-06T17:37:51.493Z"
   },
   {
    "duration": 663,
    "start_time": "2024-07-06T17:37:51.525Z"
   },
   {
    "duration": 0,
    "start_time": "2024-07-06T17:37:52.191Z"
   },
   {
    "duration": 0,
    "start_time": "2024-07-06T17:37:52.192Z"
   },
   {
    "duration": 0,
    "start_time": "2024-07-06T17:37:52.194Z"
   },
   {
    "duration": 0,
    "start_time": "2024-07-06T17:37:52.196Z"
   },
   {
    "duration": 0,
    "start_time": "2024-07-06T17:37:52.197Z"
   },
   {
    "duration": 0,
    "start_time": "2024-07-06T17:37:52.199Z"
   },
   {
    "duration": 0,
    "start_time": "2024-07-06T17:37:52.200Z"
   },
   {
    "duration": 0,
    "start_time": "2024-07-06T17:37:52.202Z"
   },
   {
    "duration": 0,
    "start_time": "2024-07-06T17:37:52.204Z"
   },
   {
    "duration": 0,
    "start_time": "2024-07-06T17:37:52.205Z"
   },
   {
    "duration": 0,
    "start_time": "2024-07-06T17:37:52.207Z"
   },
   {
    "duration": 0,
    "start_time": "2024-07-06T17:37:52.208Z"
   },
   {
    "duration": 0,
    "start_time": "2024-07-06T17:37:52.210Z"
   },
   {
    "duration": 0,
    "start_time": "2024-07-06T17:37:52.211Z"
   },
   {
    "duration": 0,
    "start_time": "2024-07-06T17:37:52.213Z"
   },
   {
    "duration": 0,
    "start_time": "2024-07-06T17:37:52.214Z"
   },
   {
    "duration": 6,
    "start_time": "2024-07-06T17:38:50.652Z"
   },
   {
    "duration": 192404,
    "start_time": "2024-07-06T17:38:58.858Z"
   },
   {
    "duration": 2525,
    "start_time": "2024-07-06T17:44:09.695Z"
   },
   {
    "duration": 1464,
    "start_time": "2024-07-06T17:44:12.222Z"
   },
   {
    "duration": 1009,
    "start_time": "2024-07-06T17:44:13.694Z"
   },
   {
    "duration": 11,
    "start_time": "2024-07-06T17:44:14.706Z"
   },
   {
    "duration": 11,
    "start_time": "2024-07-06T17:44:14.719Z"
   },
   {
    "duration": 35,
    "start_time": "2024-07-06T17:44:14.732Z"
   },
   {
    "duration": 11,
    "start_time": "2024-07-06T17:44:14.769Z"
   },
   {
    "duration": 49,
    "start_time": "2024-07-06T17:44:14.781Z"
   },
   {
    "duration": 15,
    "start_time": "2024-07-06T17:44:14.832Z"
   },
   {
    "duration": 2504,
    "start_time": "2024-07-06T17:48:49.791Z"
   },
   {
    "duration": 1501,
    "start_time": "2024-07-06T17:48:52.297Z"
   },
   {
    "duration": 1005,
    "start_time": "2024-07-06T17:48:53.799Z"
   },
   {
    "duration": 11,
    "start_time": "2024-07-06T17:48:54.806Z"
   },
   {
    "duration": 7,
    "start_time": "2024-07-06T17:48:54.820Z"
   },
   {
    "duration": 25,
    "start_time": "2024-07-06T17:48:54.829Z"
   },
   {
    "duration": 15,
    "start_time": "2024-07-06T17:48:54.855Z"
   },
   {
    "duration": 50,
    "start_time": "2024-07-06T17:48:54.871Z"
   },
   {
    "duration": 10,
    "start_time": "2024-07-06T17:48:54.923Z"
   },
   {
    "duration": 7634,
    "start_time": "2024-07-06T17:48:54.935Z"
   },
   {
    "duration": 33425,
    "start_time": "2024-07-06T17:49:02.571Z"
   },
   {
    "duration": 20905,
    "start_time": "2024-07-06T17:49:35.998Z"
   },
   {
    "duration": 20589,
    "start_time": "2024-07-06T17:49:56.906Z"
   },
   {
    "duration": 3,
    "start_time": "2024-07-06T17:50:17.497Z"
   },
   {
    "duration": 8,
    "start_time": "2024-07-06T17:50:17.501Z"
   },
   {
    "duration": 152,
    "start_time": "2024-07-06T17:50:17.511Z"
   },
   {
    "duration": 0,
    "start_time": "2024-07-06T17:50:17.665Z"
   },
   {
    "duration": 0,
    "start_time": "2024-07-06T17:50:17.666Z"
   },
   {
    "duration": 0,
    "start_time": "2024-07-06T17:50:17.667Z"
   },
   {
    "duration": 0,
    "start_time": "2024-07-06T17:50:17.668Z"
   },
   {
    "duration": 0,
    "start_time": "2024-07-06T17:50:17.669Z"
   },
   {
    "duration": 0,
    "start_time": "2024-07-06T17:50:17.670Z"
   },
   {
    "duration": 0,
    "start_time": "2024-07-06T17:50:17.671Z"
   },
   {
    "duration": 0,
    "start_time": "2024-07-06T17:50:17.691Z"
   },
   {
    "duration": 0,
    "start_time": "2024-07-06T17:50:17.693Z"
   },
   {
    "duration": 0,
    "start_time": "2024-07-06T17:50:17.695Z"
   },
   {
    "duration": 10,
    "start_time": "2024-07-06T17:52:54.852Z"
   },
   {
    "duration": 3,
    "start_time": "2024-07-06T17:52:58.092Z"
   },
   {
    "duration": 13,
    "start_time": "2024-07-06T17:53:01.716Z"
   },
   {
    "duration": 52,
    "start_time": "2024-07-06T17:54:58.414Z"
   },
   {
    "duration": 13,
    "start_time": "2024-07-06T17:57:08.416Z"
   },
   {
    "duration": 14,
    "start_time": "2024-07-06T17:58:27.841Z"
   },
   {
    "duration": 13,
    "start_time": "2024-07-06T17:58:40.240Z"
   },
   {
    "duration": 15,
    "start_time": "2024-07-06T17:59:17.427Z"
   },
   {
    "duration": 12,
    "start_time": "2024-07-06T18:00:19.766Z"
   },
   {
    "duration": 12,
    "start_time": "2024-07-06T18:00:31.617Z"
   },
   {
    "duration": 10,
    "start_time": "2024-07-06T18:00:52.390Z"
   },
   {
    "duration": 13,
    "start_time": "2024-07-06T18:01:30.112Z"
   },
   {
    "duration": 12,
    "start_time": "2024-07-06T18:03:09.631Z"
   },
   {
    "duration": 15,
    "start_time": "2024-07-06T18:05:15.695Z"
   },
   {
    "duration": 13,
    "start_time": "2024-07-06T18:06:47.928Z"
   },
   {
    "duration": 16,
    "start_time": "2024-07-06T18:08:29.674Z"
   },
   {
    "duration": 10,
    "start_time": "2024-07-06T18:14:01.412Z"
   },
   {
    "duration": 15722,
    "start_time": "2024-07-06T18:17:52.451Z"
   },
   {
    "duration": 6,
    "start_time": "2024-07-06T18:19:09.777Z"
   },
   {
    "duration": 74,
    "start_time": "2024-07-06T18:19:23.469Z"
   },
   {
    "duration": 3,
    "start_time": "2024-07-06T18:21:02.667Z"
   },
   {
    "duration": 46092,
    "start_time": "2024-07-06T18:21:16.040Z"
   },
   {
    "duration": 30,
    "start_time": "2024-07-06T18:24:06.045Z"
   },
   {
    "duration": 691,
    "start_time": "2024-07-06T18:25:02.597Z"
   },
   {
    "duration": 32829,
    "start_time": "2024-07-06T18:26:22.091Z"
   },
   {
    "duration": 2461,
    "start_time": "2024-07-06T18:28:46.214Z"
   },
   {
    "duration": 1520,
    "start_time": "2024-07-06T18:28:48.677Z"
   },
   {
    "duration": 993,
    "start_time": "2024-07-06T18:28:50.198Z"
   },
   {
    "duration": 13,
    "start_time": "2024-07-06T18:28:51.194Z"
   },
   {
    "duration": 9,
    "start_time": "2024-07-06T18:28:51.209Z"
   },
   {
    "duration": 16,
    "start_time": "2024-07-06T18:28:51.220Z"
   },
   {
    "duration": 13,
    "start_time": "2024-07-06T18:28:51.238Z"
   },
   {
    "duration": 75,
    "start_time": "2024-07-06T18:28:51.253Z"
   },
   {
    "duration": 10,
    "start_time": "2024-07-06T18:28:51.330Z"
   },
   {
    "duration": 7694,
    "start_time": "2024-07-06T18:28:51.342Z"
   },
   {
    "duration": 10,
    "start_time": "2024-07-06T18:28:59.037Z"
   },
   {
    "duration": 35048,
    "start_time": "2024-07-06T18:28:59.048Z"
   },
   {
    "duration": 22295,
    "start_time": "2024-07-06T18:29:34.097Z"
   },
   {
    "duration": 21301,
    "start_time": "2024-07-06T18:29:56.394Z"
   },
   {
    "duration": 2,
    "start_time": "2024-07-06T18:30:17.697Z"
   },
   {
    "duration": 10,
    "start_time": "2024-07-06T18:30:17.701Z"
   },
   {
    "duration": 5,
    "start_time": "2024-07-06T18:30:17.713Z"
   },
   {
    "duration": 31,
    "start_time": "2024-07-06T18:30:17.720Z"
   },
   {
    "duration": 3,
    "start_time": "2024-07-06T18:30:17.753Z"
   },
   {
    "duration": 32274,
    "start_time": "2024-07-06T18:30:17.757Z"
   },
   {
    "duration": 236071,
    "start_time": "2024-07-06T18:30:50.032Z"
   },
   {
    "duration": 12104,
    "start_time": "2024-07-06T18:34:46.105Z"
   },
   {
    "duration": 2501,
    "start_time": "2024-07-06T18:39:07.083Z"
   },
   {
    "duration": 1533,
    "start_time": "2024-07-06T18:39:09.587Z"
   },
   {
    "duration": 1041,
    "start_time": "2024-07-06T18:39:11.122Z"
   },
   {
    "duration": 10,
    "start_time": "2024-07-06T18:39:12.165Z"
   },
   {
    "duration": 18,
    "start_time": "2024-07-06T18:39:12.178Z"
   },
   {
    "duration": 15,
    "start_time": "2024-07-06T18:39:12.197Z"
   },
   {
    "duration": 10,
    "start_time": "2024-07-06T18:39:12.213Z"
   },
   {
    "duration": 42,
    "start_time": "2024-07-06T18:39:12.224Z"
   },
   {
    "duration": 24,
    "start_time": "2024-07-06T18:39:12.268Z"
   },
   {
    "duration": 7669,
    "start_time": "2024-07-06T18:39:12.294Z"
   },
   {
    "duration": 10,
    "start_time": "2024-07-06T18:39:19.965Z"
   },
   {
    "duration": 35715,
    "start_time": "2024-07-06T18:39:19.977Z"
   },
   {
    "duration": 21804,
    "start_time": "2024-07-06T18:39:55.694Z"
   },
   {
    "duration": 19395,
    "start_time": "2024-07-06T18:40:17.501Z"
   },
   {
    "duration": 3,
    "start_time": "2024-07-06T18:40:36.898Z"
   },
   {
    "duration": 7,
    "start_time": "2024-07-06T18:40:36.903Z"
   },
   {
    "duration": 4,
    "start_time": "2024-07-06T18:40:36.912Z"
   },
   {
    "duration": 32,
    "start_time": "2024-07-06T18:40:36.918Z"
   },
   {
    "duration": 3,
    "start_time": "2024-07-06T18:40:36.952Z"
   },
   {
    "duration": 236,
    "start_time": "2024-07-06T18:40:36.957Z"
   },
   {
    "duration": 0,
    "start_time": "2024-07-06T18:40:37.195Z"
   },
   {
    "duration": 0,
    "start_time": "2024-07-06T18:40:37.196Z"
   },
   {
    "duration": 0,
    "start_time": "2024-07-06T18:40:37.197Z"
   },
   {
    "duration": 0,
    "start_time": "2024-07-06T18:40:37.198Z"
   },
   {
    "duration": 0,
    "start_time": "2024-07-06T18:40:37.199Z"
   },
   {
    "duration": 0,
    "start_time": "2024-07-06T18:40:37.200Z"
   },
   {
    "duration": 0,
    "start_time": "2024-07-06T18:40:37.201Z"
   },
   {
    "duration": 32692,
    "start_time": "2024-07-06T18:43:21.455Z"
   },
   {
    "duration": 15017,
    "start_time": "2024-07-06T18:44:30.230Z"
   },
   {
    "duration": 51,
    "start_time": "2024-07-06T18:46:06.569Z"
   },
   {
    "duration": 32913,
    "start_time": "2024-07-06T18:46:51.680Z"
   },
   {
    "duration": 43,
    "start_time": "2024-07-06T22:39:45.432Z"
   },
   {
    "duration": 6460,
    "start_time": "2024-07-06T22:41:22.199Z"
   },
   {
    "duration": 1449,
    "start_time": "2024-07-06T22:41:28.661Z"
   },
   {
    "duration": 2167,
    "start_time": "2024-07-06T22:41:30.112Z"
   },
   {
    "duration": 9,
    "start_time": "2024-07-06T22:41:32.281Z"
   },
   {
    "duration": 99,
    "start_time": "2024-07-06T22:41:32.291Z"
   },
   {
    "duration": 23,
    "start_time": "2024-07-06T22:41:32.392Z"
   },
   {
    "duration": 13,
    "start_time": "2024-07-06T22:41:32.416Z"
   },
   {
    "duration": 24,
    "start_time": "2024-07-06T22:41:32.430Z"
   },
   {
    "duration": 11,
    "start_time": "2024-07-06T22:41:32.456Z"
   },
   {
    "duration": 8,
    "start_time": "2024-07-06T22:41:32.469Z"
   },
   {
    "duration": 475934,
    "start_time": "2024-07-06T22:41:32.479Z"
   },
   {
    "duration": 7,
    "start_time": "2024-07-06T22:49:28.415Z"
   },
   {
    "duration": 26981,
    "start_time": "2024-07-06T22:49:28.423Z"
   },
   {
    "duration": 17504,
    "start_time": "2024-07-06T22:49:55.406Z"
   },
   {
    "duration": 16213,
    "start_time": "2024-07-06T22:50:12.912Z"
   },
   {
    "duration": 3,
    "start_time": "2024-07-06T22:50:29.127Z"
   },
   {
    "duration": 90,
    "start_time": "2024-07-06T22:50:29.131Z"
   },
   {
    "duration": 30,
    "start_time": "2024-07-06T22:50:29.222Z"
   },
   {
    "duration": 46,
    "start_time": "2024-07-06T22:50:29.254Z"
   },
   {
    "duration": 2,
    "start_time": "2024-07-06T22:50:29.302Z"
   },
   {
    "duration": 30228,
    "start_time": "2024-07-06T22:50:29.306Z"
   },
   {
    "duration": 12982,
    "start_time": "2024-07-06T22:50:59.536Z"
   },
   {
    "duration": 2430,
    "start_time": "2024-07-06T22:52:44.923Z"
   },
   {
    "duration": 1227,
    "start_time": "2024-07-06T22:52:47.356Z"
   },
   {
    "duration": 824,
    "start_time": "2024-07-06T22:52:48.585Z"
   },
   {
    "duration": 9,
    "start_time": "2024-07-06T22:52:49.411Z"
   },
   {
    "duration": 5,
    "start_time": "2024-07-06T22:52:49.421Z"
   },
   {
    "duration": 20,
    "start_time": "2024-07-06T22:52:49.427Z"
   },
   {
    "duration": 9,
    "start_time": "2024-07-06T22:52:49.448Z"
   },
   {
    "duration": 21,
    "start_time": "2024-07-06T22:52:49.458Z"
   },
   {
    "duration": 22,
    "start_time": "2024-07-06T22:52:49.480Z"
   },
   {
    "duration": 2,
    "start_time": "2024-07-06T22:52:49.504Z"
   },
   {
    "duration": 471905,
    "start_time": "2024-07-06T22:52:49.507Z"
   },
   {
    "duration": 7,
    "start_time": "2024-07-06T23:00:41.413Z"
   },
   {
    "duration": 17295,
    "start_time": "2024-07-06T23:00:41.421Z"
   },
   {
    "duration": 17800,
    "start_time": "2024-07-06T23:00:58.802Z"
   },
   {
    "duration": 14908,
    "start_time": "2024-07-06T23:01:16.604Z"
   },
   {
    "duration": 2,
    "start_time": "2024-07-06T23:01:31.513Z"
   },
   {
    "duration": 94,
    "start_time": "2024-07-06T23:01:31.517Z"
   },
   {
    "duration": 27,
    "start_time": "2024-07-06T23:01:31.612Z"
   },
   {
    "duration": 61,
    "start_time": "2024-07-06T23:01:31.641Z"
   },
   {
    "duration": 2,
    "start_time": "2024-07-06T23:01:31.704Z"
   },
   {
    "duration": 30811,
    "start_time": "2024-07-06T23:01:31.707Z"
   },
   {
    "duration": 12563,
    "start_time": "2024-07-06T23:02:02.519Z"
   },
   {
    "duration": 2401,
    "start_time": "2024-07-06T23:02:33.751Z"
   },
   {
    "duration": 1252,
    "start_time": "2024-07-06T23:02:36.154Z"
   },
   {
    "duration": 813,
    "start_time": "2024-07-06T23:02:37.408Z"
   },
   {
    "duration": 8,
    "start_time": "2024-07-06T23:02:38.222Z"
   },
   {
    "duration": 6,
    "start_time": "2024-07-06T23:02:38.232Z"
   },
   {
    "duration": 16,
    "start_time": "2024-07-06T23:02:38.239Z"
   },
   {
    "duration": 13,
    "start_time": "2024-07-06T23:02:38.256Z"
   },
   {
    "duration": 31,
    "start_time": "2024-07-06T23:02:38.270Z"
   },
   {
    "duration": 9,
    "start_time": "2024-07-06T23:02:38.303Z"
   },
   {
    "duration": 3,
    "start_time": "2024-07-06T23:02:38.314Z"
   },
   {
    "duration": 472088,
    "start_time": "2024-07-06T23:02:38.318Z"
   },
   {
    "duration": 10,
    "start_time": "2024-07-06T23:10:30.407Z"
   },
   {
    "duration": 20000,
    "start_time": "2024-07-06T23:10:30.419Z"
   },
   {
    "duration": 18392,
    "start_time": "2024-07-06T23:10:50.421Z"
   },
   {
    "duration": 17606,
    "start_time": "2024-07-06T23:11:08.815Z"
   },
   {
    "duration": 5,
    "start_time": "2024-07-06T23:11:26.503Z"
   },
   {
    "duration": 91,
    "start_time": "2024-07-06T23:11:26.511Z"
   },
   {
    "duration": 70,
    "start_time": "2024-07-06T23:11:26.604Z"
   },
   {
    "duration": 27,
    "start_time": "2024-07-06T23:11:26.676Z"
   },
   {
    "duration": 2,
    "start_time": "2024-07-06T23:11:26.705Z"
   },
   {
    "duration": 29667,
    "start_time": "2024-07-06T23:11:26.708Z"
   },
   {
    "duration": 2,
    "start_time": "2024-07-06T23:11:56.376Z"
   },
   {
    "duration": 2482,
    "start_time": "2024-07-06T23:14:15.139Z"
   },
   {
    "duration": 1290,
    "start_time": "2024-07-06T23:14:17.623Z"
   },
   {
    "duration": 878,
    "start_time": "2024-07-06T23:14:18.915Z"
   },
   {
    "duration": 12,
    "start_time": "2024-07-06T23:14:19.795Z"
   },
   {
    "duration": 13,
    "start_time": "2024-07-06T23:14:19.809Z"
   },
   {
    "duration": 18,
    "start_time": "2024-07-06T23:14:19.823Z"
   },
   {
    "duration": 9,
    "start_time": "2024-07-06T23:14:19.843Z"
   },
   {
    "duration": 24,
    "start_time": "2024-07-06T23:14:19.853Z"
   },
   {
    "duration": 31,
    "start_time": "2024-07-06T23:14:19.878Z"
   },
   {
    "duration": 2,
    "start_time": "2024-07-06T23:14:19.911Z"
   },
   {
    "duration": 465782,
    "start_time": "2024-07-06T23:14:19.914Z"
   },
   {
    "duration": 9,
    "start_time": "2024-07-06T23:22:05.698Z"
   },
   {
    "duration": 16794,
    "start_time": "2024-07-06T23:22:05.708Z"
   },
   {
    "duration": 15902,
    "start_time": "2024-07-06T23:22:22.505Z"
   },
   {
    "duration": 14199,
    "start_time": "2024-07-06T23:22:38.409Z"
   },
   {
    "duration": 2,
    "start_time": "2024-07-06T23:22:52.610Z"
   },
   {
    "duration": 88,
    "start_time": "2024-07-06T23:22:52.613Z"
   },
   {
    "duration": 6,
    "start_time": "2024-07-06T23:22:52.703Z"
   },
   {
    "duration": 20,
    "start_time": "2024-07-06T23:22:52.711Z"
   },
   {
    "duration": 2,
    "start_time": "2024-07-06T23:22:52.733Z"
   },
   {
    "duration": 27553,
    "start_time": "2024-07-06T23:22:52.736Z"
   },
   {
    "duration": 3,
    "start_time": "2024-07-06T23:23:20.290Z"
   },
   {
    "duration": 206816,
    "start_time": "2024-07-06T23:23:20.294Z"
   },
   {
    "duration": 14890,
    "start_time": "2024-07-06T23:26:47.112Z"
   },
   {
    "duration": 1635850,
    "start_time": "2024-07-06T23:27:02.004Z"
   },
   {
    "duration": 37573,
    "start_time": "2024-07-06T23:54:17.855Z"
   },
   {
    "duration": 2458,
    "start_time": "2024-07-07T00:10:08.828Z"
   },
   {
    "duration": 1338,
    "start_time": "2024-07-07T00:10:11.287Z"
   },
   {
    "duration": 859,
    "start_time": "2024-07-07T00:10:12.627Z"
   },
   {
    "duration": 14,
    "start_time": "2024-07-07T00:10:13.488Z"
   },
   {
    "duration": 10,
    "start_time": "2024-07-07T00:10:13.504Z"
   },
   {
    "duration": 15,
    "start_time": "2024-07-07T00:10:13.516Z"
   },
   {
    "duration": 22,
    "start_time": "2024-07-07T00:10:13.532Z"
   },
   {
    "duration": 46,
    "start_time": "2024-07-07T00:10:13.555Z"
   },
   {
    "duration": 16,
    "start_time": "2024-07-07T00:10:13.602Z"
   },
   {
    "duration": 3,
    "start_time": "2024-07-07T00:10:13.620Z"
   },
   {
    "duration": 461237,
    "start_time": "2024-07-07T00:10:13.624Z"
   },
   {
    "duration": 7,
    "start_time": "2024-07-07T00:17:54.863Z"
   },
   {
    "duration": 15641,
    "start_time": "2024-07-07T00:17:54.872Z"
   },
   {
    "duration": 17394,
    "start_time": "2024-07-07T00:18:10.514Z"
   },
   {
    "duration": 14798,
    "start_time": "2024-07-07T00:18:27.910Z"
   },
   {
    "duration": 2,
    "start_time": "2024-07-07T00:18:42.709Z"
   },
   {
    "duration": 6,
    "start_time": "2024-07-07T00:18:42.712Z"
   },
   {
    "duration": 5,
    "start_time": "2024-07-07T00:18:42.719Z"
   },
   {
    "duration": 20,
    "start_time": "2024-07-07T00:18:42.725Z"
   },
   {
    "duration": 2,
    "start_time": "2024-07-07T00:18:42.746Z"
   },
   {
    "duration": 29341,
    "start_time": "2024-07-07T00:18:42.749Z"
   },
   {
    "duration": 2,
    "start_time": "2024-07-07T00:19:12.092Z"
   },
   {
    "duration": 193609,
    "start_time": "2024-07-07T00:19:12.101Z"
   },
   {
    "duration": 14302,
    "start_time": "2024-07-07T00:22:25.802Z"
   },
   {
    "duration": 1621625,
    "start_time": "2024-07-07T00:22:40.106Z"
   },
   {
    "duration": 36933,
    "start_time": "2024-07-07T00:49:41.732Z"
   },
   {
    "duration": 8293,
    "start_time": "2024-07-07T15:50:03.763Z"
   },
   {
    "duration": 1837,
    "start_time": "2024-07-07T15:50:12.061Z"
   },
   {
    "duration": 2563,
    "start_time": "2024-07-07T15:50:13.900Z"
   },
   {
    "duration": 11,
    "start_time": "2024-07-07T15:50:16.466Z"
   },
   {
    "duration": 57,
    "start_time": "2024-07-07T15:50:16.480Z"
   },
   {
    "duration": 20,
    "start_time": "2024-07-07T15:50:16.539Z"
   },
   {
    "duration": 12,
    "start_time": "2024-07-07T15:50:16.564Z"
   },
   {
    "duration": 72,
    "start_time": "2024-07-07T15:50:16.578Z"
   },
   {
    "duration": 21,
    "start_time": "2024-07-07T15:50:16.654Z"
   },
   {
    "duration": 3,
    "start_time": "2024-07-07T15:50:16.677Z"
   },
   {
    "duration": 2777,
    "start_time": "2024-07-07T15:54:49.060Z"
   },
   {
    "duration": 1655,
    "start_time": "2024-07-07T15:54:51.839Z"
   },
   {
    "duration": 1106,
    "start_time": "2024-07-07T15:54:53.496Z"
   },
   {
    "duration": 10,
    "start_time": "2024-07-07T15:54:54.604Z"
   },
   {
    "duration": 10,
    "start_time": "2024-07-07T15:54:54.617Z"
   },
   {
    "duration": 34,
    "start_time": "2024-07-07T15:54:54.629Z"
   },
   {
    "duration": 10,
    "start_time": "2024-07-07T15:54:54.665Z"
   },
   {
    "duration": 32,
    "start_time": "2024-07-07T15:54:54.677Z"
   },
   {
    "duration": 53,
    "start_time": "2024-07-07T15:54:54.711Z"
   },
   {
    "duration": 3,
    "start_time": "2024-07-07T15:54:54.766Z"
   },
   {
    "duration": 160601,
    "start_time": "2024-07-07T15:54:54.771Z"
   },
   {
    "duration": 0,
    "start_time": "2024-07-07T15:57:35.374Z"
   },
   {
    "duration": 0,
    "start_time": "2024-07-07T15:57:35.378Z"
   },
   {
    "duration": 0,
    "start_time": "2024-07-07T15:57:35.380Z"
   },
   {
    "duration": 0,
    "start_time": "2024-07-07T15:57:35.382Z"
   },
   {
    "duration": 0,
    "start_time": "2024-07-07T15:57:35.383Z"
   },
   {
    "duration": 712082,
    "start_time": "2024-07-07T15:57:37.381Z"
   },
   {
    "duration": 11,
    "start_time": "2024-07-07T16:09:29.465Z"
   },
   {
    "duration": 24694,
    "start_time": "2024-07-07T16:09:29.478Z"
   },
   {
    "duration": 5,
    "start_time": "2024-07-07T16:09:54.175Z"
   },
   {
    "duration": 179,
    "start_time": "2024-07-07T16:09:54.182Z"
   },
   {
    "duration": 0,
    "start_time": "2024-07-07T16:09:54.365Z"
   },
   {
    "duration": 4,
    "start_time": "2024-07-07T16:58:20.626Z"
   },
   {
    "duration": 247686,
    "start_time": "2024-07-07T16:58:33.575Z"
   },
   {
    "duration": 21162,
    "start_time": "2024-07-07T17:02:41.350Z"
   },
   {
    "duration": 7310,
    "start_time": "2025-01-05T14:39:04.581Z"
   },
   {
    "duration": 1636,
    "start_time": "2025-01-05T14:39:11.893Z"
   },
   {
    "duration": 1341,
    "start_time": "2025-01-05T14:39:13.531Z"
   },
   {
    "duration": 10,
    "start_time": "2025-01-05T14:39:14.873Z"
   },
   {
    "duration": 7,
    "start_time": "2025-01-05T14:39:14.885Z"
   },
   {
    "duration": 10,
    "start_time": "2025-01-05T14:39:14.894Z"
   },
   {
    "duration": 10,
    "start_time": "2025-01-05T14:39:14.905Z"
   },
   {
    "duration": 52,
    "start_time": "2025-01-05T14:39:14.916Z"
   },
   {
    "duration": 10,
    "start_time": "2025-01-05T14:39:14.970Z"
   },
   {
    "duration": 2,
    "start_time": "2025-01-05T14:39:14.982Z"
   },
   {
    "duration": 581194,
    "start_time": "2025-01-05T14:39:14.985Z"
   },
   {
    "duration": 10,
    "start_time": "2025-01-05T14:48:56.180Z"
   },
   {
    "duration": 20359,
    "start_time": "2025-01-05T14:48:56.191Z"
   },
   {
    "duration": 21588,
    "start_time": "2025-01-05T14:49:16.553Z"
   },
   {
    "duration": 19705,
    "start_time": "2025-01-05T14:49:38.143Z"
   },
   {
    "duration": 3,
    "start_time": "2025-01-05T14:49:57.850Z"
   },
   {
    "duration": 83,
    "start_time": "2025-01-05T14:49:57.855Z"
   },
   {
    "duration": 3,
    "start_time": "2025-01-05T14:49:57.940Z"
   },
   {
    "duration": 29,
    "start_time": "2025-01-05T14:49:57.945Z"
   },
   {
    "duration": 2,
    "start_time": "2025-01-05T14:49:57.975Z"
   },
   {
    "duration": 37284,
    "start_time": "2025-01-05T14:49:57.979Z"
   },
   {
    "duration": 2,
    "start_time": "2025-01-05T14:50:35.265Z"
   },
   {
    "duration": 266784,
    "start_time": "2025-01-05T14:50:35.269Z"
   },
   {
    "duration": 22703,
    "start_time": "2025-01-05T14:55:02.055Z"
   },
   {
    "duration": 2069196,
    "start_time": "2025-01-05T14:55:24.760Z"
   },
   {
    "duration": 44473,
    "start_time": "2025-01-05T15:29:53.957Z"
   },
   {
    "duration": 1331806,
    "start_time": "2025-01-05T15:30:38.432Z"
   },
   {
    "duration": 12,
    "start_time": "2025-01-05T15:52:50.239Z"
   },
   {
    "duration": 26312,
    "start_time": "2025-01-05T15:52:50.253Z"
   }
  ],
  "kernelspec": {
   "display_name": "Python 3 (ipykernel)",
   "language": "python",
   "name": "python3"
  },
  "language_info": {
   "codemirror_mode": {
    "name": "ipython",
    "version": 3
   },
   "file_extension": ".py",
   "mimetype": "text/x-python",
   "name": "python",
   "nbconvert_exporter": "python",
   "pygments_lexer": "ipython3",
   "version": "3.9.15"
  },
  "toc": {
   "base_numbering": 1,
   "nav_menu": {},
   "number_sections": true,
   "sideBar": true,
   "skip_h1_title": true,
   "title_cell": "Содержание",
   "title_sidebar": "Contents",
   "toc_cell": true,
   "toc_position": {
    "height": "calc(100% - 180px)",
    "left": "10px",
    "top": "150px",
    "width": "302.391px"
   },
   "toc_section_display": true,
   "toc_window_display": false
  }
 },
 "nbformat": 4,
 "nbformat_minor": 2
}
